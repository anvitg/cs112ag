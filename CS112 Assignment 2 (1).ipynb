{
 "cells": [
  {
   "cell_type": "markdown",
   "metadata": {
    "collapsed": false
   },
   "source": [
    "Write your own original code that produces a dataset of an X variable and a corresponding Y variable that conforms to the classic univariate regression model. Your data set should have 998 observations and a Normal error term. The slope of the coefficient on your regressor should be negative. Now include two outliers, such that when you fit a regression to all your data, the slope of your regression line is positive."
   ]
  },
  {
   "cell_type": "code",
   "execution_count": 0,
   "metadata": {
    "collapsed": false
   },
   "outputs": [
   ],
   "source": [
    "#a. Your original data-generating equation\n",
    "#b. Regression results for the original 998 (copy/paste the “summary” output)\n",
    "#c. Regression results with the outliers included (copy/paste “summary” output)\n",
    "#d. A properly-labeled data visualization that shows the regression line based on the original 998 points, and another differentiated regression line (on the same axes) based on 1000 points.\n",
    "#e. No more than 3 sentences that would serve as a caption for your figure if it were to be included in an econometrics textbook to illustrate the dangers of extrapolation\n"
   ]
  },
  {
   "cell_type": "code",
   "execution_count": 3,
   "metadata": {
    "collapsed": false
   },
   "outputs": [
    {
     "data": {
      "text/html": [
       "<table>\n",
       "<caption>A data.frame: 6 × 2</caption>\n",
       "<thead>\n",
       "\t<tr><th scope=col>Number.of.Cigarettes</th><th scope=col>Level.of.Stamina</th></tr>\n",
       "\t<tr><th scope=col>&lt;dbl&gt;</th><th scope=col>&lt;dbl&gt;</th></tr>\n",
       "</thead>\n",
       "<tbody>\n",
       "\t<tr><td>11.491849</td><td>-0.05628776</td></tr>\n",
       "\t<tr><td>18.631138</td><td>-0.14980013</td></tr>\n",
       "\t<tr><td>23.250754</td><td>-0.18528217</td></tr>\n",
       "\t<tr><td> 7.384308</td><td>-0.05235193</td></tr>\n",
       "\t<tr><td> 2.868516</td><td> 0.01790072</td></tr>\n",
       "\t<tr><td> 9.129195</td><td>-0.03089905</td></tr>\n",
       "</tbody>\n",
       "</table>\n"
      ],
      "text/latex": [
       "A data.frame: 6 × 2\n",
       "\\begin{tabular}{r|ll}\n",
       " Number.of.Cigarettes & Level.of.Stamina\\\\\n",
       " <dbl> & <dbl>\\\\\n",
       "\\hline\n",
       "\t 11.491849 & -0.05628776\\\\\n",
       "\t 18.631138 & -0.14980013\\\\\n",
       "\t 23.250754 & -0.18528217\\\\\n",
       "\t  7.384308 & -0.05235193\\\\\n",
       "\t  2.868516 &  0.01790072\\\\\n",
       "\t  9.129195 & -0.03089905\\\\\n",
       "\\end{tabular}\n"
      ],
      "text/markdown": [
       "\n",
       "A data.frame: 6 × 2\n",
       "\n",
       "| Number.of.Cigarettes &lt;dbl&gt; | Level.of.Stamina &lt;dbl&gt; |\n",
       "|---|---|\n",
       "| 11.491849 | -0.05628776 |\n",
       "| 18.631138 | -0.14980013 |\n",
       "| 23.250754 | -0.18528217 |\n",
       "|  7.384308 | -0.05235193 |\n",
       "|  2.868516 |  0.01790072 |\n",
       "|  9.129195 | -0.03089905 |\n",
       "\n"
      ],
      "text/plain": [
       "  Number.of.Cigarettes Level.of.Stamina\n",
       "1 11.491849            -0.05628776     \n",
       "2 18.631138            -0.14980013     \n",
       "3 23.250754            -0.18528217     \n",
       "4  7.384308            -0.05235193     \n",
       "5  2.868516             0.01790072     \n",
       "6  9.129195            -0.03089905     "
      ]
     },
     "execution_count": 3,
     "metadata": {
     },
     "output_type": "execute_result"
    }
   ],
   "source": [
    "#(a)\n",
    "cig_no <- c(runif(998, max = 30, min = 2)) # average number of cigarettes per day\n",
    "noise <- rnorm(998, mean = 0.05, sd = 0.02)\n",
    "stamina <- -0.01 * cig_no + noise # max exercise stamina\n",
    "cig.df <- data.frame(`Number of Cigarettes` = cig_no,\n",
    "                      `Level of Stamina` = stamina)\n",
    "head(cig.df)"
   ]
  },
  {
   "cell_type": "code",
   "execution_count": 4,
   "metadata": {
    "collapsed": false
   },
   "outputs": [
    {
     "data": {
      "text/plain": [
       "\n",
       "Call:\n",
       "lm(formula = stamina ~ cig_no, data = cig.df)\n",
       "\n",
       "Residuals:\n",
       "      Min        1Q    Median        3Q       Max \n",
       "-0.053629 -0.013017 -0.000668  0.013314  0.078914 \n",
       "\n",
       "Coefficients:\n",
       "              Estimate Std. Error t value Pr(>|t|)    \n",
       "(Intercept)  4.964e-02  1.384e-03   35.86   <2e-16 ***\n",
       "cig_no      -9.992e-03  7.727e-05 -129.31   <2e-16 ***\n",
       "---\n",
       "Signif. codes:  0 ‘***’ 0.001 ‘**’ 0.01 ‘*’ 0.05 ‘.’ 0.1 ‘ ’ 1\n",
       "\n",
       "Residual standard error: 0.02013 on 996 degrees of freedom\n",
       "Multiple R-squared:  0.9438,\tAdjusted R-squared:  0.9437 \n",
       "F-statistic: 1.672e+04 on 1 and 996 DF,  p-value: < 2.2e-16\n"
      ]
     },
     "execution_count": 4,
     "metadata": {
     },
     "output_type": "execute_result"
    }
   ],
   "source": [
    "#(b)\n",
    "stamina_amt.lm <- lm(stamina ~ cig_no, data=cig.df)\n",
    "summary(stamina_amt.lm)"
   ]
  },
  {
   "cell_type": "code",
   "execution_count": 12,
   "metadata": {
    "collapsed": false
   },
   "outputs": [
    {
     "data": {
      "text/plain": [
       "\n",
       "Call:\n",
       "lm(formula = Level.of.Stamina ~ Number.of.Cigarettes, data = cig.outlier.df)\n",
       "\n",
       "Residuals:\n",
       "    Min      1Q  Median      3Q     Max \n",
       "-43.067  -0.265   0.070   0.438   0.823 \n",
       "\n",
       "Coefficients:\n",
       "                      Estimate Std. Error t value Pr(>|t|)    \n",
       "(Intercept)          -0.807884   0.125826  -6.421 2.10e-10 ***\n",
       "Number.of.Cigarettes  0.038803   0.007018   5.529 4.11e-08 ***\n",
       "---\n",
       "Signif. codes:  0 ‘***’ 0.001 ‘**’ 0.01 ‘*’ 0.05 ‘.’ 0.1 ‘ ’ 1\n",
       "\n",
       "Residual standard error: 1.873 on 998 degrees of freedom\n",
       "Multiple R-squared:  0.02972,\tAdjusted R-squared:  0.02875 \n",
       "F-statistic: 30.57 on 1 and 998 DF,  p-value: 4.107e-08\n"
      ]
     },
     "execution_count": 12,
     "metadata": {
     },
     "output_type": "execute_result"
    }
   ],
   "source": [
    "#(c)\n",
    "outlier.1 <- c(-29, -45)# some faulty measurement issue leads to two outliers\n",
    "outlier.2 <- c(-20, -40)\n",
    "cig.outlier.df <- rbind(cig.df, outlier.1, outlier.2)\n",
    "cig.outlier.lm <- lm(Level.of.Stamina ~ Number.of.Cigarettes, data=cig.outlier.df) \n",
    "summary(cig.outlier.lm)"
   ]
  },
  {
   "cell_type": "code",
   "execution_count": 14,
   "metadata": {
    "collapsed": false
   },
   "outputs": [
    {
     "data": {
      "image/png": "[encoded data removed]",
      "text/plain": [
       "plot without title"
      ]
     },
     "execution_count": 14,
     "metadata": {
     },
     "output_type": "execute_result"
    }
   ],
   "source": [
    "#(d)\n",
    "plot(cig.df$Number.of.Cigarettes, cig.df$Level.of.Stamina,\n",
    "     pch = 16, cex = 0.2, xlab = \"Average Number of Cigarettes per day\", ylab = \"Stamina Level\")\n",
    "abline(stamina_amt.lm, col = \"red\")\n",
    "abline(cig.outlier.lm, col = \"black\")\n",
    "legend(\"topleft\", inset = .05, title = \"Regression lines\", c(\"w/o outlier\", \"with outlier\"), col=c(\"red\", \"black\"), lty=1, cex=0.8)\n"
   ]
  },
  {
   "cell_type": "markdown",
   "metadata": {
    "collapsed": false
   },
   "source": [
    "The data visualization above shows how the level of stamina is dependent on the average number of cigarettes smoked per day. The red trend line shows the first 998 data points, while the black line shows the trend line when two outlier points are added. This demonstrates how extrapolation can lead to spurious relationships between variables - evidenced by the change in the slope from negative to positive using the addition of two outliers. "
   ]
  },
  {
   "cell_type": "markdown",
   "metadata": {
    "collapsed": false
   },
   "source": [
    "2.\t\tUsing the Lalonde data set and a linear model that predicts re78 as a linear additive function of age, age^2, educ, treat, treat*age, re74, and re75, estimate:\n",
    "\n",
    "(a) the 95% interval of expected values for re78, for every TREATED UNIT unit (i.e., each age 17-55, spanning the age range in the data set), using simulation (i.e., 10000 simulated predictions for every row from 10000 sets of coefficients). You should not incorporate simulated sigmas, and you should hold educ, re74, and re75 at their means. Even include ages that are not covered by the data (e.g., 47, 49, etc.).\n",
    "(b) the 95% interval of expected values for re78, for every CONTROL UNIT unit (i.e., each age 17-55, spanning the age range in the data set), using simulation (i.e., 10000 simulated predictions for every row from 10000 sets of coefficients). You should not incorporate simulated sigmas, and you should hold educ, re74, and re75 at their means. Even include ages that are not covered by the data (e.g., 47, 49, etc.).\n",
    "(c) the 95% interval of expected values for the treatment effect, for every unit (i.e., each age 17-55, spanning the age range in the data set), using simulation (i.e., 10000 simulated predictions for every row from 10000 sets of coefficients). You should not incorporate simulated sigmas, and you should hold educ, re74, and re75 at their means. Even include ages that are not covered by the data (e.g., 47, 49, etc.).\n",
    "(d) the 95% prediction interval for the treatment effect, for every unit (i.e., each age, spanning the age range in the data set), using simulation (i.e., 10000 simulated predictions for every row from 10000 sets of coefficients). You will need to incorporate simulated sigmas, and you should hold educ, re74, and re75 at their medians. \n",
    "Your answer to this question should consist of the following:\n",
    "A table with the relevant point estimates: e.g., the bounds of the prediction intervals of y for the different ages, and the means (in reference to parts “a” through “c”) or medians (in reference to part “d”) of the other predictors.\n",
    "4 figures for (a) through (d). All I am interested in are the prediction intervals for each age. The figures should show how the intervals change over time (i.e., over the range of ages in the data set). Be sure to label your plot’s features (axis, title, etc.).\n"
   ]
  },
  {
   "cell_type": "code",
   "execution_count": 2,
   "metadata": {
    "collapsed": false
   },
   "outputs": [
    {
     "name": "stderr",
     "output_type": "stream",
     "text": [
      "Loading required package: MASS\n"
     ]
    },
    {
     "name": "stderr",
     "output_type": "stream",
     "text": [
      "## \n",
      "##  Matching (Version 4.9-6, Build Date: 2019-04-07)\n",
      "##  See http://sekhon.berkeley.edu/matching for additional documentation.\n",
      "##  Please cite software as:\n",
      "##   Jasjeet S. Sekhon. 2011. ``Multivariate and Propensity Score Matching\n",
      "##   Software with Automated Balance Optimization: The Matching package for R.''\n",
      "##   Journal of Statistical Software, 42(7): 1-52. \n",
      "##\n",
      "\n"
     ]
    },
    {
     "name": "stderr",
     "output_type": "stream",
     "text": [
      "Loading required package: Matrix\n"
     ]
    },
    {
     "name": "stderr",
     "output_type": "stream",
     "text": [
      "Loading required package: lme4\n"
     ]
    },
    {
     "name": "stderr",
     "output_type": "stream",
     "text": [
      "\n",
      "arm (Version 1.10-1, built: 2018-4-12)\n",
      "\n"
     ]
    },
    {
     "name": "stderr",
     "output_type": "stream",
     "text": [
      "Working directory is /home/user\n",
      "\n"
     ]
    },
    {
     "data": {
      "text/html": [
       "<table>\n",
       "<caption>A data.frame: 6 × 12</caption>\n",
       "<thead>\n",
       "\t<tr><th scope=col>age</th><th scope=col>educ</th><th scope=col>black</th><th scope=col>hisp</th><th scope=col>married</th><th scope=col>nodegr</th><th scope=col>re74</th><th scope=col>re75</th><th scope=col>re78</th><th scope=col>u74</th><th scope=col>u75</th><th scope=col>treat</th></tr>\n",
       "\t<tr><th scope=col>&lt;dbl&gt;</th><th scope=col>&lt;dbl&gt;</th><th scope=col>&lt;dbl&gt;</th><th scope=col>&lt;dbl&gt;</th><th scope=col>&lt;dbl&gt;</th><th scope=col>&lt;dbl&gt;</th><th scope=col>&lt;dbl&gt;</th><th scope=col>&lt;dbl&gt;</th><th scope=col>&lt;dbl&gt;</th><th scope=col>&lt;dbl&gt;</th><th scope=col>&lt;dbl&gt;</th><th scope=col>&lt;dbl&gt;</th></tr>\n",
       "</thead>\n",
       "<tbody>\n",
       "\t<tr><td>37</td><td>11</td><td>1</td><td>0</td><td>1</td><td>1</td><td>0</td><td>0</td><td> 9930.05</td><td>1</td><td>1</td><td>1</td></tr>\n",
       "\t<tr><td>22</td><td> 9</td><td>0</td><td>1</td><td>0</td><td>1</td><td>0</td><td>0</td><td> 3595.89</td><td>1</td><td>1</td><td>1</td></tr>\n",
       "\t<tr><td>30</td><td>12</td><td>1</td><td>0</td><td>0</td><td>0</td><td>0</td><td>0</td><td>24909.50</td><td>1</td><td>1</td><td>1</td></tr>\n",
       "\t<tr><td>27</td><td>11</td><td>1</td><td>0</td><td>0</td><td>1</td><td>0</td><td>0</td><td> 7506.15</td><td>1</td><td>1</td><td>1</td></tr>\n",
       "\t<tr><td>33</td><td> 8</td><td>1</td><td>0</td><td>0</td><td>1</td><td>0</td><td>0</td><td>  289.79</td><td>1</td><td>1</td><td>1</td></tr>\n",
       "\t<tr><td>22</td><td> 9</td><td>1</td><td>0</td><td>0</td><td>1</td><td>0</td><td>0</td><td> 4056.49</td><td>1</td><td>1</td><td>1</td></tr>\n",
       "</tbody>\n",
       "</table>\n"
      ],
      "text/latex": [
       "A data.frame: 6 × 12\n",
       "\\begin{tabular}{r|llllllllllll}\n",
       " age & educ & black & hisp & married & nodegr & re74 & re75 & re78 & u74 & u75 & treat\\\\\n",
       " <dbl> & <dbl> & <dbl> & <dbl> & <dbl> & <dbl> & <dbl> & <dbl> & <dbl> & <dbl> & <dbl> & <dbl>\\\\\n",
       "\\hline\n",
       "\t 37 & 11 & 1 & 0 & 1 & 1 & 0 & 0 &  9930.05 & 1 & 1 & 1\\\\\n",
       "\t 22 &  9 & 0 & 1 & 0 & 1 & 0 & 0 &  3595.89 & 1 & 1 & 1\\\\\n",
       "\t 30 & 12 & 1 & 0 & 0 & 0 & 0 & 0 & 24909.50 & 1 & 1 & 1\\\\\n",
       "\t 27 & 11 & 1 & 0 & 0 & 1 & 0 & 0 &  7506.15 & 1 & 1 & 1\\\\\n",
       "\t 33 &  8 & 1 & 0 & 0 & 1 & 0 & 0 &   289.79 & 1 & 1 & 1\\\\\n",
       "\t 22 &  9 & 1 & 0 & 0 & 1 & 0 & 0 &  4056.49 & 1 & 1 & 1\\\\\n",
       "\\end{tabular}\n"
      ],
      "text/markdown": [
       "\n",
       "A data.frame: 6 × 12\n",
       "\n",
       "| age &lt;dbl&gt; | educ &lt;dbl&gt; | black &lt;dbl&gt; | hisp &lt;dbl&gt; | married &lt;dbl&gt; | nodegr &lt;dbl&gt; | re74 &lt;dbl&gt; | re75 &lt;dbl&gt; | re78 &lt;dbl&gt; | u74 &lt;dbl&gt; | u75 &lt;dbl&gt; | treat &lt;dbl&gt; |\n",
       "|---|---|---|---|---|---|---|---|---|---|---|---|\n",
       "| 37 | 11 | 1 | 0 | 1 | 1 | 0 | 0 |  9930.05 | 1 | 1 | 1 |\n",
       "| 22 |  9 | 0 | 1 | 0 | 1 | 0 | 0 |  3595.89 | 1 | 1 | 1 |\n",
       "| 30 | 12 | 1 | 0 | 0 | 0 | 0 | 0 | 24909.50 | 1 | 1 | 1 |\n",
       "| 27 | 11 | 1 | 0 | 0 | 1 | 0 | 0 |  7506.15 | 1 | 1 | 1 |\n",
       "| 33 |  8 | 1 | 0 | 0 | 1 | 0 | 0 |   289.79 | 1 | 1 | 1 |\n",
       "| 22 |  9 | 1 | 0 | 0 | 1 | 0 | 0 |  4056.49 | 1 | 1 | 1 |\n",
       "\n"
      ],
      "text/plain": [
       "  age educ black hisp married nodegr re74 re75 re78     u74 u75 treat\n",
       "1 37  11   1     0    1       1      0    0     9930.05 1   1   1    \n",
       "2 22   9   0     1    0       1      0    0     3595.89 1   1   1    \n",
       "3 30  12   1     0    0       0      0    0    24909.50 1   1   1    \n",
       "4 27  11   1     0    0       1      0    0     7506.15 1   1   1    \n",
       "5 33   8   1     0    0       1      0    0      289.79 1   1   1    \n",
       "6 22   9   1     0    0       1      0    0     4056.49 1   1   1    "
      ]
     },
     "execution_count": 2,
     "metadata": {
     },
     "output_type": "execute_result"
    }
   ],
   "source": [
    "library(Matching)\n",
    "library(arm)\n",
    "data(\"lalonde\")\n",
    "head(lalonde)\n"
   ]
  },
  {
   "cell_type": "code",
   "execution_count": 40,
   "metadata": {
    "collapsed": false
   },
   "outputs": [
   ],
   "source": [
   ]
  },
  {
   "cell_type": "code",
   "execution_count": 7,
   "metadata": {
    "collapsed": false,
    "scrolled": true
   },
   "outputs": [
    {
     "data": {
      "text/html": [
       "48"
      ],
      "text/latex": [
       "48"
      ],
      "text/markdown": [
       "48"
      ],
      "text/plain": [
       "[1] 48"
      ]
     },
     "execution_count": 7,
     "metadata": {
     },
     "output_type": "execute_result"
    },
    {
     "data": {
      "text/plain": [
       "\n",
       "Call:\n",
       "lm(formula = re78 ~ age + age_sq + educ + treat + treat * age + \n",
       "    re74 + re75, data = lalonde)\n",
       "\n",
       "Residuals:\n",
       "   Min     1Q Median     3Q    Max \n",
       " -8184  -4613  -1609   2854  53615 \n",
       "\n",
       "Coefficients:\n",
       "              Estimate Std. Error t value Pr(>|t|)  \n",
       "(Intercept) -371.37067 3926.33105  -0.095   0.9247  \n",
       "age           59.22649  272.25199   0.218   0.8279  \n",
       "age_sq        -0.89176    4.44398  -0.201   0.8411  \n",
       "educ         377.05691  179.35668   2.102   0.0361 *\n",
       "treat       -624.81016 2349.85561  -0.266   0.7904  \n",
       "re74           0.07117    0.07688   0.926   0.3551  \n",
       "re75           0.07297    0.13137   0.555   0.5789  \n",
       "age:treat     88.86364   88.75807   1.001   0.3173  \n",
       "---\n",
       "Signif. codes:  0 ‘***’ 0.001 ‘**’ 0.01 ‘*’ 0.05 ‘.’ 0.1 ‘ ’ 1\n",
       "\n",
       "Residual standard error: 6545 on 437 degrees of freedom\n",
       "Multiple R-squared:  0.04126,\tAdjusted R-squared:  0.0259 \n",
       "F-statistic: 2.687 on 7 and 437 DF,  p-value: 0.009841\n"
      ]
     },
     "execution_count": 7,
     "metadata": {
     },
     "output_type": "execute_result"
    },
    {
     "data": {
      "text/html": [
       "<dl class=dl-horizontal>\n",
       "\t<dt>(Intercept)</dt>\n",
       "\t\t<dd>5137.80303851217</dd>\n",
       "\t<dt>age</dt>\n",
       "\t\t<dd>-469.535687752817</dd>\n",
       "\t<dt>age_sq</dt>\n",
       "\t\t<dd>8.31620881791483</dd>\n",
       "\t<dt>educ</dt>\n",
       "\t\t<dd>509.57282631765</dd>\n",
       "\t<dt>treat</dt>\n",
       "\t\t<dd>2208.38085044951</dd>\n",
       "\t<dt>re74</dt>\n",
       "\t\t<dd>0.232966423435683</dd>\n",
       "\t<dt>re75</dt>\n",
       "\t\t<dd>-0.0219485354265203</dd>\n",
       "\t<dt>age:treat</dt>\n",
       "\t\t<dd>-14.053786570625</dd>\n",
       "</dl>\n"
      ],
      "text/latex": [
       "\\begin{description*}\n",
       "\\item[(Intercept)] 5137.80303851217\n",
       "\\item[age] -469.535687752817\n",
       "\\item[age\\textbackslash{}\\_sq] 8.31620881791483\n",
       "\\item[educ] 509.57282631765\n",
       "\\item[treat] 2208.38085044951\n",
       "\\item[re74] 0.232966423435683\n",
       "\\item[re75] -0.0219485354265203\n",
       "\\item[age:treat] -14.053786570625\n",
       "\\end{description*}\n"
      ],
      "text/markdown": [
       "(Intercept)\n",
       ":   5137.80303851217age\n",
       ":   -469.535687752817age_sq\n",
       ":   8.31620881791483educ\n",
       ":   509.57282631765treat\n",
       ":   2208.38085044951re74\n",
       ":   0.232966423435683re75\n",
       ":   -0.0219485354265203age:treat\n",
       ":   -14.053786570625\n",
       "\n"
      ],
      "text/plain": [
       "  (Intercept)           age        age_sq          educ         treat \n",
       "5137.80303851 -469.53568775    8.31620882  509.57282632 2208.38085045 \n",
       "         re74          re75     age:treat \n",
       "   0.23296642   -0.02194854  -14.05378657 "
      ]
     },
     "execution_count": 7,
     "metadata": {
     },
     "output_type": "execute_result"
    },
    {
     "data": {
      "text/html": [
       "<table>\n",
       "<caption>A data.frame: 6 × 5</caption>\n",
       "<thead>\n",
       "\t<tr><th></th><th scope=col>Mean.PI.Lower.Bound</th><th scope=col>Mean.PI.Upper.Bound</th><th scope=col>mean_educ</th><th scope=col>mean_re74</th><th scope=col>mean_re75</th></tr>\n",
       "\t<tr><th></th><th scope=col>&lt;dbl&gt;</th><th scope=col>&lt;dbl&gt;</th><th scope=col>&lt;dbl&gt;</th><th scope=col>&lt;dbl&gt;</th><th scope=col>&lt;dbl&gt;</th></tr>\n",
       "</thead>\n",
       "<tbody>\n",
       "\t<tr><th scope=row>17</th><td>3695.207</td><td>7188.675</td><td>10.34595</td><td>2095.574</td><td>1532.056</td></tr>\n",
       "\t<tr><th scope=row>18</th><td>4007.010</td><td>7113.704</td><td>10.34595</td><td>2095.574</td><td>1532.056</td></tr>\n",
       "\t<tr><th scope=row>19</th><td>4297.393</td><td>7063.350</td><td>10.34595</td><td>2095.574</td><td>1532.056</td></tr>\n",
       "\t<tr><th scope=row>20</th><td>4526.666</td><td>7050.594</td><td>10.34595</td><td>2095.574</td><td>1532.056</td></tr>\n",
       "\t<tr><th scope=row>21</th><td>4738.008</td><td>7036.544</td><td>10.34595</td><td>2095.574</td><td>1532.056</td></tr>\n",
       "\t<tr><th scope=row>22</th><td>4923.684</td><td>7070.231</td><td>10.34595</td><td>2095.574</td><td>1532.056</td></tr>\n",
       "</tbody>\n",
       "</table>\n"
      ],
      "text/latex": [
       "A data.frame: 6 × 5\n",
       "\\begin{tabular}{r|lllll}\n",
       "  & Mean.PI.Lower.Bound & Mean.PI.Upper.Bound & mean\\_educ & mean\\_re74 & mean\\_re75\\\\\n",
       "  & <dbl> & <dbl> & <dbl> & <dbl> & <dbl>\\\\\n",
       "\\hline\n",
       "\t17 & 3695.207 & 7188.675 & 10.34595 & 2095.574 & 1532.056\\\\\n",
       "\t18 & 4007.010 & 7113.704 & 10.34595 & 2095.574 & 1532.056\\\\\n",
       "\t19 & 4297.393 & 7063.350 & 10.34595 & 2095.574 & 1532.056\\\\\n",
       "\t20 & 4526.666 & 7050.594 & 10.34595 & 2095.574 & 1532.056\\\\\n",
       "\t21 & 4738.008 & 7036.544 & 10.34595 & 2095.574 & 1532.056\\\\\n",
       "\t22 & 4923.684 & 7070.231 & 10.34595 & 2095.574 & 1532.056\\\\\n",
       "\\end{tabular}\n"
      ],
      "text/markdown": [
       "\n",
       "A data.frame: 6 × 5\n",
       "\n",
       "| <!--/--> | Mean.PI.Lower.Bound &lt;dbl&gt; | Mean.PI.Upper.Bound &lt;dbl&gt; | mean_educ &lt;dbl&gt; | mean_re74 &lt;dbl&gt; | mean_re75 &lt;dbl&gt; |\n",
       "|---|---|---|---|---|---|\n",
       "| 17 | 3695.207 | 7188.675 | 10.34595 | 2095.574 | 1532.056 |\n",
       "| 18 | 4007.010 | 7113.704 | 10.34595 | 2095.574 | 1532.056 |\n",
       "| 19 | 4297.393 | 7063.350 | 10.34595 | 2095.574 | 1532.056 |\n",
       "| 20 | 4526.666 | 7050.594 | 10.34595 | 2095.574 | 1532.056 |\n",
       "| 21 | 4738.008 | 7036.544 | 10.34595 | 2095.574 | 1532.056 |\n",
       "| 22 | 4923.684 | 7070.231 | 10.34595 | 2095.574 | 1532.056 |\n",
       "\n"
      ],
      "text/plain": [
       "   Mean.PI.Lower.Bound Mean.PI.Upper.Bound mean_educ mean_re74 mean_re75\n",
       "17 3695.207            7188.675            10.34595  2095.574  1532.056 \n",
       "18 4007.010            7113.704            10.34595  2095.574  1532.056 \n",
       "19 4297.393            7063.350            10.34595  2095.574  1532.056 \n",
       "20 4526.666            7050.594            10.34595  2095.574  1532.056 \n",
       "21 4738.008            7036.544            10.34595  2095.574  1532.056 \n",
       "22 4923.684            7070.231            10.34595  2095.574  1532.056 "
      ]
     },
     "execution_count": 7,
     "metadata": {
     },
     "output_type": "execute_result"
    },
    {
     "data": {
      "image/png": "[encoded data removed]",
      "text/plain": [
       "Plot with title “Real Earnings (1978) vs Age”"
      ]
     },
     "execution_count": 7,
     "metadata": {
     },
     "output_type": "execute_result"
    }
   ],
   "source": [
    "#(a)\n",
    "lalonde$age_sq <- lalonde$age^2\n",
    "\n",
    "# isolating only treated units = 1\n",
    "lalonde.treat <- lalonde[which(lalonde$treat == 1), ]\n",
    "max(lalonde.treat$age)\n",
    "\n",
    "# regression model\n",
    "lalonde.lm1 <- lm(re78 ~ age + age_sq + educ + treat + treat * age + re74 + re75, data = lalonde)\n",
    "summary(lalonde.lm1)\n",
    "\n",
    "\n",
    "set.seed(123)\n",
    "iterate.num <- 10000\n",
    "lalonde.sim <- sim(lalonde.lm1, n.sims = iterate.num)\n",
    "\n",
    "lalonde.sim@coef[1,]\n",
    "\n",
    "\n",
    "simy_mean <- matrix(NA, nrow = iterate.num, ncol = length(\n",
    "  min(lalonde$age):max(lalonde$age)))\n",
    "\n",
    "# Holding at the means\n",
    "mean_educ <- mean(lalonde.treat$educ)\n",
    "mean_re74 <- mean(lalonde.treat$re74)\n",
    "mean_re75 <- mean(lalonde.treat$re75)\n",
    "\n",
    "for (age in min(lalonde$age):max(lalonde$age)) {\n",
    "  Xs <- c(1, age, age^2, mean_educ, 1, mean_re74, mean_re75, 1 * age)\n",
    "  for (i in 1:iterate.num) {\n",
    "    simy_mean[i, age + 1 - min(lalonde$age)] <- sum(Xs*lalonde.sim@coef[i,])\n",
    "  }\n",
    "}\n",
    "\n",
    "confintmean.t <- apply(simy_mean, 2, quantile, probs = c(0.025, 0.975))\n",
    "mean_treat.t <- t(data.frame(confintmean.t))\n",
    "colnames(mean_treat.t) <- c(\"Mean PI Lower Bound\", \"Mean PI Upper Bound\")\n",
    "mean_treat.t <- data.frame(mean_treat.t, mean_educ, mean_re74, mean_re75)\n",
    "rownames(mean_treat.t) <- min(lalonde$age):max(lalonde$age)\n",
    "head(mean_treat.t)\n",
    "\n",
    "plot(x = c(1:100), y = c(1:100), type = \"n\", \n",
    "     xlim = c(min(lalonde$age),max(lalonde$age)), \n",
    "     ylim = c(0,17000), \n",
    "     main = \"Real Earnings (1978) vs Age\", xlab = \"Age\", \n",
    "     ylab = \"Re78\")\n",
    "\n",
    "for (age in min(lalonde$age):max(lalonde$age)) {\n",
    "  segments(\n",
    "    x0 = age,\n",
    "    y0 = confintmean.t[1, age - min(lalonde$age) + 1],\n",
    "    x1 = age,\n",
    "    y1 = confintmean.t[2, age - min(lalonde$age) + 1],\n",
    "    lwd = 2)\n",
    "}\n"
   ]
  },
  {
   "cell_type": "code",
   "execution_count": 9,
   "metadata": {
    "collapsed": false
   },
   "outputs": [
    {
     "data": {
      "text/plain": [
       "\n",
       "Call:\n",
       "lm(formula = re78 ~ age + age_sq + educ + treat + treat * age + \n",
       "    re74 + re75, data = lalonde)\n",
       "\n",
       "Residuals:\n",
       "   Min     1Q Median     3Q    Max \n",
       " -8184  -4613  -1609   2854  53615 \n",
       "\n",
       "Coefficients:\n",
       "              Estimate Std. Error t value Pr(>|t|)  \n",
       "(Intercept) -371.37067 3926.33105  -0.095   0.9247  \n",
       "age           59.22649  272.25199   0.218   0.8279  \n",
       "age_sq        -0.89176    4.44398  -0.201   0.8411  \n",
       "educ         377.05691  179.35668   2.102   0.0361 *\n",
       "treat       -624.81016 2349.85561  -0.266   0.7904  \n",
       "re74           0.07117    0.07688   0.926   0.3551  \n",
       "re75           0.07297    0.13137   0.555   0.5789  \n",
       "age:treat     88.86364   88.75807   1.001   0.3173  \n",
       "---\n",
       "Signif. codes:  0 ‘***’ 0.001 ‘**’ 0.01 ‘*’ 0.05 ‘.’ 0.1 ‘ ’ 1\n",
       "\n",
       "Residual standard error: 6545 on 437 degrees of freedom\n",
       "Multiple R-squared:  0.04126,\tAdjusted R-squared:  0.0259 \n",
       "F-statistic: 2.687 on 7 and 437 DF,  p-value: 0.009841\n"
      ]
     },
     "execution_count": 9,
     "metadata": {
     },
     "output_type": "execute_result"
    },
    {
     "data": {
      "text/html": [
       "<dl class=dl-horizontal>\n",
       "\t<dt>(Intercept)</dt>\n",
       "\t\t<dd>5137.80303851217</dd>\n",
       "\t<dt>age</dt>\n",
       "\t\t<dd>-469.535687752817</dd>\n",
       "\t<dt>age_sq</dt>\n",
       "\t\t<dd>8.31620881791483</dd>\n",
       "\t<dt>educ</dt>\n",
       "\t\t<dd>509.57282631765</dd>\n",
       "\t<dt>treat</dt>\n",
       "\t\t<dd>2208.38085044951</dd>\n",
       "\t<dt>re74</dt>\n",
       "\t\t<dd>0.232966423435683</dd>\n",
       "\t<dt>re75</dt>\n",
       "\t\t<dd>-0.0219485354265203</dd>\n",
       "\t<dt>age:treat</dt>\n",
       "\t\t<dd>-14.053786570625</dd>\n",
       "</dl>\n"
      ],
      "text/latex": [
       "\\begin{description*}\n",
       "\\item[(Intercept)] 5137.80303851217\n",
       "\\item[age] -469.535687752817\n",
       "\\item[age\\textbackslash{}\\_sq] 8.31620881791483\n",
       "\\item[educ] 509.57282631765\n",
       "\\item[treat] 2208.38085044951\n",
       "\\item[re74] 0.232966423435683\n",
       "\\item[re75] -0.0219485354265203\n",
       "\\item[age:treat] -14.053786570625\n",
       "\\end{description*}\n"
      ],
      "text/markdown": [
       "(Intercept)\n",
       ":   5137.80303851217age\n",
       ":   -469.535687752817age_sq\n",
       ":   8.31620881791483educ\n",
       ":   509.57282631765treat\n",
       ":   2208.38085044951re74\n",
       ":   0.232966423435683re75\n",
       ":   -0.0219485354265203age:treat\n",
       ":   -14.053786570625\n",
       "\n"
      ],
      "text/plain": [
       "  (Intercept)           age        age_sq          educ         treat \n",
       "5137.80303851 -469.53568775    8.31620882  509.57282632 2208.38085045 \n",
       "         re74          re75     age:treat \n",
       "   0.23296642   -0.02194854  -14.05378657 "
      ]
     },
     "execution_count": 9,
     "metadata": {
     },
     "output_type": "execute_result"
    },
    {
     "data": {
      "text/html": [
       "<table>\n",
       "<caption>A data.frame: 6 × 5</caption>\n",
       "<thead>\n",
       "\t<tr><th></th><th scope=col>Mean.PI.Lower.Bound</th><th scope=col>Mean.PI.Upper.Bound</th><th scope=col>mean1_educ</th><th scope=col>mean1_re74</th><th scope=col>mean1_re75</th></tr>\n",
       "\t<tr><th></th><th scope=col>&lt;dbl&gt;</th><th scope=col>&lt;dbl&gt;</th><th scope=col>&lt;dbl&gt;</th><th scope=col>&lt;dbl&gt;</th><th scope=col>&lt;dbl&gt;</th></tr>\n",
       "</thead>\n",
       "<tbody>\n",
       "\t<tr><th scope=row>17</th><td>2961.494</td><td>5868.411</td><td>10.08846</td><td>2107.027</td><td>1266.909</td></tr>\n",
       "\t<tr><th scope=row>18</th><td>3170.688</td><td>5713.034</td><td>10.08846</td><td>2107.027</td><td>1266.909</td></tr>\n",
       "\t<tr><th scope=row>19</th><td>3346.493</td><td>5594.582</td><td>10.08846</td><td>2107.027</td><td>1266.909</td></tr>\n",
       "\t<tr><th scope=row>20</th><td>3500.166</td><td>5501.128</td><td>10.08846</td><td>2107.027</td><td>1266.909</td></tr>\n",
       "\t<tr><th scope=row>21</th><td>3590.127</td><td>5449.220</td><td>10.08846</td><td>2107.027</td><td>1266.909</td></tr>\n",
       "\t<tr><th scope=row>22</th><td>3653.896</td><td>5423.185</td><td>10.08846</td><td>2107.027</td><td>1266.909</td></tr>\n",
       "</tbody>\n",
       "</table>\n"
      ],
      "text/latex": [
       "A data.frame: 6 × 5\n",
       "\\begin{tabular}{r|lllll}\n",
       "  & Mean.PI.Lower.Bound & Mean.PI.Upper.Bound & mean1\\_educ & mean1\\_re74 & mean1\\_re75\\\\\n",
       "  & <dbl> & <dbl> & <dbl> & <dbl> & <dbl>\\\\\n",
       "\\hline\n",
       "\t17 & 2961.494 & 5868.411 & 10.08846 & 2107.027 & 1266.909\\\\\n",
       "\t18 & 3170.688 & 5713.034 & 10.08846 & 2107.027 & 1266.909\\\\\n",
       "\t19 & 3346.493 & 5594.582 & 10.08846 & 2107.027 & 1266.909\\\\\n",
       "\t20 & 3500.166 & 5501.128 & 10.08846 & 2107.027 & 1266.909\\\\\n",
       "\t21 & 3590.127 & 5449.220 & 10.08846 & 2107.027 & 1266.909\\\\\n",
       "\t22 & 3653.896 & 5423.185 & 10.08846 & 2107.027 & 1266.909\\\\\n",
       "\\end{tabular}\n"
      ],
      "text/markdown": [
       "\n",
       "A data.frame: 6 × 5\n",
       "\n",
       "| <!--/--> | Mean.PI.Lower.Bound &lt;dbl&gt; | Mean.PI.Upper.Bound &lt;dbl&gt; | mean1_educ &lt;dbl&gt; | mean1_re74 &lt;dbl&gt; | mean1_re75 &lt;dbl&gt; |\n",
       "|---|---|---|---|---|---|\n",
       "| 17 | 2961.494 | 5868.411 | 10.08846 | 2107.027 | 1266.909 |\n",
       "| 18 | 3170.688 | 5713.034 | 10.08846 | 2107.027 | 1266.909 |\n",
       "| 19 | 3346.493 | 5594.582 | 10.08846 | 2107.027 | 1266.909 |\n",
       "| 20 | 3500.166 | 5501.128 | 10.08846 | 2107.027 | 1266.909 |\n",
       "| 21 | 3590.127 | 5449.220 | 10.08846 | 2107.027 | 1266.909 |\n",
       "| 22 | 3653.896 | 5423.185 | 10.08846 | 2107.027 | 1266.909 |\n",
       "\n"
      ],
      "text/plain": [
       "   Mean.PI.Lower.Bound Mean.PI.Upper.Bound mean1_educ mean1_re74 mean1_re75\n",
       "17 2961.494            5868.411            10.08846   2107.027   1266.909  \n",
       "18 3170.688            5713.034            10.08846   2107.027   1266.909  \n",
       "19 3346.493            5594.582            10.08846   2107.027   1266.909  \n",
       "20 3500.166            5501.128            10.08846   2107.027   1266.909  \n",
       "21 3590.127            5449.220            10.08846   2107.027   1266.909  \n",
       "22 3653.896            5423.185            10.08846   2107.027   1266.909  "
      ]
     },
     "execution_count": 9,
     "metadata": {
     },
     "output_type": "execute_result"
    },
    {
     "data": {
      "image/png": "[encoded data removed]",
      "text/plain": [
       "Plot with title “Real Earnings (1978) vs Age”"
      ]
     },
     "execution_count": 9,
     "metadata": {
     },
     "output_type": "execute_result"
    }
   ],
   "source": [
    "#(b)\n",
    "# only CONTROL units\n",
    "lalonde.control <- lalonde[which(lalonde$treat == 0), ]\n",
    "\n",
    "\n",
    "lalonde.lm2 <- lm(re78 ~ age + age_sq + educ + treat + treat * age + re74 + re75, data = lalonde)\n",
    "summary(lalonde.lm2)\n",
    "\n",
    "\n",
    "set.seed(123)\n",
    "iterate.num <- 10000\n",
    "sim.lalonde.ctrl <- sim(lalonde.lm2, n.sims = iterate.num)\n",
    "\n",
    "\n",
    "sim.lalonde.ctrl@coef[1,]\n",
    "\n",
    "simymean.ctrl <- matrix(NA, nrow = iterate.num, ncol = length(\n",
    "  min(lalonde$age):max(lalonde$age)))\n",
    "\n",
    "mean1_educ <- mean(lalonde.control$educ)\n",
    "mean1_re74 <- mean(lalonde.control$re74)\n",
    "mean1_re75 <- mean(lalonde.control$re75)\n",
    "\n",
    "for (age in min(lalonde$age):max(lalonde$age)) {\n",
    "  Xs <- c(1, age, age^2, mean1_educ, 0, mean1_re74, mean1_re75, 0 * age)\n",
    "  for (i in 1:iterate.num) {\n",
    "    simymean.ctrl[i, age + 1 - min(lalonde$age)] <- sum(Xs*sim.lalonde.ctrl@coef[i,])\n",
    "  }\n",
    "}\n",
    "\n",
    "confint.mean.c <- apply(simymean.ctrl, 2, quantile, probs = c(0.025, 0.975))\n",
    "meantreat.c <- t(data.frame(confint.mean.c))\n",
    "colnames(meantreat.c) <- c(\"Mean PI Lower Bound\", \"Mean PI Upper Bound\")\n",
    "meantreat.c <- data.frame(meantreat.c, mean1_educ, mean1_re74, mean1_re75)\n",
    "rownames(meantreat.c) <- min(lalonde$age):max(lalonde$age)\n",
    "head(meantreat.c)\n",
    "\n",
    "\n",
    "plot(x = c(1:100), y = c(1:100), type = \"n\", \n",
    "     xlim = c(min(lalonde$age),max(lalonde$age)), \n",
    "     ylim = c(-4000,12000), \n",
    "     main = \"Real Earnings (1978) vs Age\", xlab = \"Age\", \n",
    "     ylab = \"Re78\")\n",
    "\n",
    "for (age in min(lalonde$age):max(lalonde$age)) {\n",
    "  segments(\n",
    "    x0 = age,\n",
    "    y0 = confint.mean.c[1, age - min(lalonde$age) + 1],\n",
    "    x1 = age,\n",
    "    y1 = confint.mean.c[2, age - min(lalonde$age) + 1],\n",
    "    lwd = 2)\n",
    "}"
   ]
  },
  {
   "cell_type": "code",
   "execution_count": 11,
   "metadata": {
    "collapsed": false
   },
   "outputs": [
    {
     "data": {
      "text/html": [
       "<table>\n",
       "<caption>A data.frame: 39 × 5</caption>\n",
       "<thead>\n",
       "\t<tr><th></th><th scope=col>Mean.PI.Lower.Bound</th><th scope=col>Mean.PI.Upper.Bound</th><th scope=col>mean.educ_trt...mean.educ_ctrl</th><th scope=col>mean.re74_trt...mean.re74_ctrl</th><th scope=col>mean.re75_trt...mean.re75_ctrl</th></tr>\n",
       "\t<tr><th></th><th scope=col>&lt;dbl&gt;</th><th scope=col>&lt;dbl&gt;</th><th scope=col>&lt;dbl&gt;</th><th scope=col>&lt;dbl&gt;</th><th scope=col>&lt;dbl&gt;</th></tr>\n",
       "</thead>\n",
       "<tbody>\n",
       "\t<tr><th scope=row>17</th><td>-920.82115</td><td>2928.659</td><td>0.2574844</td><td>-11.45282</td><td>265.1464</td></tr>\n",
       "\t<tr><th scope=row>18</th><td>-701.54169</td><td>2884.729</td><td>0.2574844</td><td>-11.45282</td><td>265.1464</td></tr>\n",
       "\t<tr><th scope=row>19</th><td>-496.39104</td><td>2878.615</td><td>0.2574844</td><td>-11.45282</td><td>265.1464</td></tr>\n",
       "\t<tr><th scope=row>20</th><td>-291.68844</td><td>2862.046</td><td>0.2574844</td><td>-11.45282</td><td>265.1464</td></tr>\n",
       "\t<tr><th scope=row>21</th><td>-100.73043</td><td>2839.316</td><td>0.2574844</td><td>-11.45282</td><td>265.1464</td></tr>\n",
       "\t<tr><th scope=row>22</th><td>  66.60230</td><td>2841.980</td><td>0.2574844</td><td>-11.45282</td><td>265.1464</td></tr>\n",
       "\t<tr><th scope=row>23</th><td> 219.90351</td><td>2857.029</td><td>0.2574844</td><td>-11.45282</td><td>265.1464</td></tr>\n",
       "\t<tr><th scope=row>24</th><td> 362.30647</td><td>2899.038</td><td>0.2574844</td><td>-11.45282</td><td>265.1464</td></tr>\n",
       "\t<tr><th scope=row>25</th><td> 464.31622</td><td>2969.077</td><td>0.2574844</td><td>-11.45282</td><td>265.1464</td></tr>\n",
       "\t<tr><th scope=row>26</th><td> 554.44034</td><td>3054.272</td><td>0.2574844</td><td>-11.45282</td><td>265.1464</td></tr>\n",
       "\t<tr><th scope=row>27</th><td> 620.24526</td><td>3165.720</td><td>0.2574844</td><td>-11.45282</td><td>265.1464</td></tr>\n",
       "\t<tr><th scope=row>28</th><td> 650.43483</td><td>3298.022</td><td>0.2574844</td><td>-11.45282</td><td>265.1464</td></tr>\n",
       "\t<tr><th scope=row>29</th><td> 664.24436</td><td>3452.565</td><td>0.2574844</td><td>-11.45282</td><td>265.1464</td></tr>\n",
       "\t<tr><th scope=row>30</th><td> 665.10827</td><td>3622.541</td><td>0.2574844</td><td>-11.45282</td><td>265.1464</td></tr>\n",
       "\t<tr><th scope=row>31</th><td> 659.67090</td><td>3810.328</td><td>0.2574844</td><td>-11.45282</td><td>265.1464</td></tr>\n",
       "\t<tr><th scope=row>32</th><td> 649.18546</td><td>4022.481</td><td>0.2574844</td><td>-11.45282</td><td>265.1464</td></tr>\n",
       "\t<tr><th scope=row>33</th><td> 609.65985</td><td>4241.419</td><td>0.2574844</td><td>-11.45282</td><td>265.1464</td></tr>\n",
       "\t<tr><th scope=row>34</th><td> 573.18283</td><td>4454.369</td><td>0.2574844</td><td>-11.45282</td><td>265.1464</td></tr>\n",
       "\t<tr><th scope=row>35</th><td> 528.18685</td><td>4681.360</td><td>0.2574844</td><td>-11.45282</td><td>265.1464</td></tr>\n",
       "\t<tr><th scope=row>36</th><td> 481.67037</td><td>4915.054</td><td>0.2574844</td><td>-11.45282</td><td>265.1464</td></tr>\n",
       "\t<tr><th scope=row>37</th><td> 426.35750</td><td>5169.598</td><td>0.2574844</td><td>-11.45282</td><td>265.1464</td></tr>\n",
       "\t<tr><th scope=row>38</th><td> 362.13764</td><td>5418.803</td><td>0.2574844</td><td>-11.45282</td><td>265.1464</td></tr>\n",
       "\t<tr><th scope=row>39</th><td> 291.71815</td><td>5661.256</td><td>0.2574844</td><td>-11.45282</td><td>265.1464</td></tr>\n",
       "\t<tr><th scope=row>40</th><td> 218.05653</td><td>5899.075</td><td>0.2574844</td><td>-11.45282</td><td>265.1464</td></tr>\n",
       "\t<tr><th scope=row>41</th><td> 156.63129</td><td>6143.722</td><td>0.2574844</td><td>-11.45282</td><td>265.1464</td></tr>\n",
       "\t<tr><th scope=row>42</th><td>  80.66515</td><td>6388.010</td><td>0.2574844</td><td>-11.45282</td><td>265.1464</td></tr>\n",
       "\t<tr><th scope=row>43</th><td>  12.21446</td><td>6639.724</td><td>0.2574844</td><td>-11.45282</td><td>265.1464</td></tr>\n",
       "\t<tr><th scope=row>44</th><td> -52.58634</td><td>6885.781</td><td>0.2574844</td><td>-11.45282</td><td>265.1464</td></tr>\n",
       "\t<tr><th scope=row>45</th><td>-133.80095</td><td>7126.642</td><td>0.2574844</td><td>-11.45282</td><td>265.1464</td></tr>\n",
       "\t<tr><th scope=row>46</th><td>-211.70106</td><td>7371.798</td><td>0.2574844</td><td>-11.45282</td><td>265.1464</td></tr>\n",
       "\t<tr><th scope=row>47</th><td>-293.94196</td><td>7617.119</td><td>0.2574844</td><td>-11.45282</td><td>265.1464</td></tr>\n",
       "\t<tr><th scope=row>48</th><td>-379.62667</td><td>7877.952</td><td>0.2574844</td><td>-11.45282</td><td>265.1464</td></tr>\n",
       "\t<tr><th scope=row>49</th><td>-451.88449</td><td>8142.487</td><td>0.2574844</td><td>-11.45282</td><td>265.1464</td></tr>\n",
       "\t<tr><th scope=row>50</th><td>-526.78264</td><td>8393.789</td><td>0.2574844</td><td>-11.45282</td><td>265.1464</td></tr>\n",
       "\t<tr><th scope=row>51</th><td>-601.26120</td><td>8658.593</td><td>0.2574844</td><td>-11.45282</td><td>265.1464</td></tr>\n",
       "\t<tr><th scope=row>52</th><td>-693.81701</td><td>8916.528</td><td>0.2574844</td><td>-11.45282</td><td>265.1464</td></tr>\n",
       "\t<tr><th scope=row>53</th><td>-779.06123</td><td>9159.827</td><td>0.2574844</td><td>-11.45282</td><td>265.1464</td></tr>\n",
       "\t<tr><th scope=row>54</th><td>-851.32279</td><td>9429.320</td><td>0.2574844</td><td>-11.45282</td><td>265.1464</td></tr>\n",
       "\t<tr><th scope=row>55</th><td>-944.37696</td><td>9680.984</td><td>0.2574844</td><td>-11.45282</td><td>265.1464</td></tr>\n",
       "</tbody>\n",
       "</table>\n"
      ],
      "text/latex": [
       "A data.frame: 39 × 5\n",
       "\\begin{tabular}{r|lllll}\n",
       "  & Mean.PI.Lower.Bound & Mean.PI.Upper.Bound & mean.educ\\_trt...mean.educ\\_ctrl & mean.re74\\_trt...mean.re74\\_ctrl & mean.re75\\_trt...mean.re75\\_ctrl\\\\\n",
       "  & <dbl> & <dbl> & <dbl> & <dbl> & <dbl>\\\\\n",
       "\\hline\n",
       "\t17 & -920.82115 & 2928.659 & 0.2574844 & -11.45282 & 265.1464\\\\\n",
       "\t18 & -701.54169 & 2884.729 & 0.2574844 & -11.45282 & 265.1464\\\\\n",
       "\t19 & -496.39104 & 2878.615 & 0.2574844 & -11.45282 & 265.1464\\\\\n",
       "\t20 & -291.68844 & 2862.046 & 0.2574844 & -11.45282 & 265.1464\\\\\n",
       "\t21 & -100.73043 & 2839.316 & 0.2574844 & -11.45282 & 265.1464\\\\\n",
       "\t22 &   66.60230 & 2841.980 & 0.2574844 & -11.45282 & 265.1464\\\\\n",
       "\t23 &  219.90351 & 2857.029 & 0.2574844 & -11.45282 & 265.1464\\\\\n",
       "\t24 &  362.30647 & 2899.038 & 0.2574844 & -11.45282 & 265.1464\\\\\n",
       "\t25 &  464.31622 & 2969.077 & 0.2574844 & -11.45282 & 265.1464\\\\\n",
       "\t26 &  554.44034 & 3054.272 & 0.2574844 & -11.45282 & 265.1464\\\\\n",
       "\t27 &  620.24526 & 3165.720 & 0.2574844 & -11.45282 & 265.1464\\\\\n",
       "\t28 &  650.43483 & 3298.022 & 0.2574844 & -11.45282 & 265.1464\\\\\n",
       "\t29 &  664.24436 & 3452.565 & 0.2574844 & -11.45282 & 265.1464\\\\\n",
       "\t30 &  665.10827 & 3622.541 & 0.2574844 & -11.45282 & 265.1464\\\\\n",
       "\t31 &  659.67090 & 3810.328 & 0.2574844 & -11.45282 & 265.1464\\\\\n",
       "\t32 &  649.18546 & 4022.481 & 0.2574844 & -11.45282 & 265.1464\\\\\n",
       "\t33 &  609.65985 & 4241.419 & 0.2574844 & -11.45282 & 265.1464\\\\\n",
       "\t34 &  573.18283 & 4454.369 & 0.2574844 & -11.45282 & 265.1464\\\\\n",
       "\t35 &  528.18685 & 4681.360 & 0.2574844 & -11.45282 & 265.1464\\\\\n",
       "\t36 &  481.67037 & 4915.054 & 0.2574844 & -11.45282 & 265.1464\\\\\n",
       "\t37 &  426.35750 & 5169.598 & 0.2574844 & -11.45282 & 265.1464\\\\\n",
       "\t38 &  362.13764 & 5418.803 & 0.2574844 & -11.45282 & 265.1464\\\\\n",
       "\t39 &  291.71815 & 5661.256 & 0.2574844 & -11.45282 & 265.1464\\\\\n",
       "\t40 &  218.05653 & 5899.075 & 0.2574844 & -11.45282 & 265.1464\\\\\n",
       "\t41 &  156.63129 & 6143.722 & 0.2574844 & -11.45282 & 265.1464\\\\\n",
       "\t42 &   80.66515 & 6388.010 & 0.2574844 & -11.45282 & 265.1464\\\\\n",
       "\t43 &   12.21446 & 6639.724 & 0.2574844 & -11.45282 & 265.1464\\\\\n",
       "\t44 &  -52.58634 & 6885.781 & 0.2574844 & -11.45282 & 265.1464\\\\\n",
       "\t45 & -133.80095 & 7126.642 & 0.2574844 & -11.45282 & 265.1464\\\\\n",
       "\t46 & -211.70106 & 7371.798 & 0.2574844 & -11.45282 & 265.1464\\\\\n",
       "\t47 & -293.94196 & 7617.119 & 0.2574844 & -11.45282 & 265.1464\\\\\n",
       "\t48 & -379.62667 & 7877.952 & 0.2574844 & -11.45282 & 265.1464\\\\\n",
       "\t49 & -451.88449 & 8142.487 & 0.2574844 & -11.45282 & 265.1464\\\\\n",
       "\t50 & -526.78264 & 8393.789 & 0.2574844 & -11.45282 & 265.1464\\\\\n",
       "\t51 & -601.26120 & 8658.593 & 0.2574844 & -11.45282 & 265.1464\\\\\n",
       "\t52 & -693.81701 & 8916.528 & 0.2574844 & -11.45282 & 265.1464\\\\\n",
       "\t53 & -779.06123 & 9159.827 & 0.2574844 & -11.45282 & 265.1464\\\\\n",
       "\t54 & -851.32279 & 9429.320 & 0.2574844 & -11.45282 & 265.1464\\\\\n",
       "\t55 & -944.37696 & 9680.984 & 0.2574844 & -11.45282 & 265.1464\\\\\n",
       "\\end{tabular}\n"
      ],
      "text/markdown": [
       "\n",
       "A data.frame: 39 × 5\n",
       "\n",
       "| <!--/--> | Mean.PI.Lower.Bound &lt;dbl&gt; | Mean.PI.Upper.Bound &lt;dbl&gt; | mean.educ_trt...mean.educ_ctrl &lt;dbl&gt; | mean.re74_trt...mean.re74_ctrl &lt;dbl&gt; | mean.re75_trt...mean.re75_ctrl &lt;dbl&gt; |\n",
       "|---|---|---|---|---|---|\n",
       "| 17 | -920.82115 | 2928.659 | 0.2574844 | -11.45282 | 265.1464 |\n",
       "| 18 | -701.54169 | 2884.729 | 0.2574844 | -11.45282 | 265.1464 |\n",
       "| 19 | -496.39104 | 2878.615 | 0.2574844 | -11.45282 | 265.1464 |\n",
       "| 20 | -291.68844 | 2862.046 | 0.2574844 | -11.45282 | 265.1464 |\n",
       "| 21 | -100.73043 | 2839.316 | 0.2574844 | -11.45282 | 265.1464 |\n",
       "| 22 |   66.60230 | 2841.980 | 0.2574844 | -11.45282 | 265.1464 |\n",
       "| 23 |  219.90351 | 2857.029 | 0.2574844 | -11.45282 | 265.1464 |\n",
       "| 24 |  362.30647 | 2899.038 | 0.2574844 | -11.45282 | 265.1464 |\n",
       "| 25 |  464.31622 | 2969.077 | 0.2574844 | -11.45282 | 265.1464 |\n",
       "| 26 |  554.44034 | 3054.272 | 0.2574844 | -11.45282 | 265.1464 |\n",
       "| 27 |  620.24526 | 3165.720 | 0.2574844 | -11.45282 | 265.1464 |\n",
       "| 28 |  650.43483 | 3298.022 | 0.2574844 | -11.45282 | 265.1464 |\n",
       "| 29 |  664.24436 | 3452.565 | 0.2574844 | -11.45282 | 265.1464 |\n",
       "| 30 |  665.10827 | 3622.541 | 0.2574844 | -11.45282 | 265.1464 |\n",
       "| 31 |  659.67090 | 3810.328 | 0.2574844 | -11.45282 | 265.1464 |\n",
       "| 32 |  649.18546 | 4022.481 | 0.2574844 | -11.45282 | 265.1464 |\n",
       "| 33 |  609.65985 | 4241.419 | 0.2574844 | -11.45282 | 265.1464 |\n",
       "| 34 |  573.18283 | 4454.369 | 0.2574844 | -11.45282 | 265.1464 |\n",
       "| 35 |  528.18685 | 4681.360 | 0.2574844 | -11.45282 | 265.1464 |\n",
       "| 36 |  481.67037 | 4915.054 | 0.2574844 | -11.45282 | 265.1464 |\n",
       "| 37 |  426.35750 | 5169.598 | 0.2574844 | -11.45282 | 265.1464 |\n",
       "| 38 |  362.13764 | 5418.803 | 0.2574844 | -11.45282 | 265.1464 |\n",
       "| 39 |  291.71815 | 5661.256 | 0.2574844 | -11.45282 | 265.1464 |\n",
       "| 40 |  218.05653 | 5899.075 | 0.2574844 | -11.45282 | 265.1464 |\n",
       "| 41 |  156.63129 | 6143.722 | 0.2574844 | -11.45282 | 265.1464 |\n",
       "| 42 |   80.66515 | 6388.010 | 0.2574844 | -11.45282 | 265.1464 |\n",
       "| 43 |   12.21446 | 6639.724 | 0.2574844 | -11.45282 | 265.1464 |\n",
       "| 44 |  -52.58634 | 6885.781 | 0.2574844 | -11.45282 | 265.1464 |\n",
       "| 45 | -133.80095 | 7126.642 | 0.2574844 | -11.45282 | 265.1464 |\n",
       "| 46 | -211.70106 | 7371.798 | 0.2574844 | -11.45282 | 265.1464 |\n",
       "| 47 | -293.94196 | 7617.119 | 0.2574844 | -11.45282 | 265.1464 |\n",
       "| 48 | -379.62667 | 7877.952 | 0.2574844 | -11.45282 | 265.1464 |\n",
       "| 49 | -451.88449 | 8142.487 | 0.2574844 | -11.45282 | 265.1464 |\n",
       "| 50 | -526.78264 | 8393.789 | 0.2574844 | -11.45282 | 265.1464 |\n",
       "| 51 | -601.26120 | 8658.593 | 0.2574844 | -11.45282 | 265.1464 |\n",
       "| 52 | -693.81701 | 8916.528 | 0.2574844 | -11.45282 | 265.1464 |\n",
       "| 53 | -779.06123 | 9159.827 | 0.2574844 | -11.45282 | 265.1464 |\n",
       "| 54 | -851.32279 | 9429.320 | 0.2574844 | -11.45282 | 265.1464 |\n",
       "| 55 | -944.37696 | 9680.984 | 0.2574844 | -11.45282 | 265.1464 |\n",
       "\n"
      ],
      "text/plain": [
       "   Mean.PI.Lower.Bound Mean.PI.Upper.Bound mean.educ_trt...mean.educ_ctrl\n",
       "17 -920.82115          2928.659            0.2574844                     \n",
       "18 -701.54169          2884.729            0.2574844                     \n",
       "19 -496.39104          2878.615            0.2574844                     \n",
       "20 -291.68844          2862.046            0.2574844                     \n",
       "21 -100.73043          2839.316            0.2574844                     \n",
       "22   66.60230          2841.980            0.2574844                     \n",
       "23  219.90351          2857.029            0.2574844                     \n",
       "24  362.30647          2899.038            0.2574844                     \n",
       "25  464.31622          2969.077            0.2574844                     \n",
       "26  554.44034          3054.272            0.2574844                     \n",
       "27  620.24526          3165.720            0.2574844                     \n",
       "28  650.43483          3298.022            0.2574844                     \n",
       "29  664.24436          3452.565            0.2574844                     \n",
       "30  665.10827          3622.541            0.2574844                     \n",
       "31  659.67090          3810.328            0.2574844                     \n",
       "32  649.18546          4022.481            0.2574844                     \n",
       "33  609.65985          4241.419            0.2574844                     \n",
       "34  573.18283          4454.369            0.2574844                     \n",
       "35  528.18685          4681.360            0.2574844                     \n",
       "36  481.67037          4915.054            0.2574844                     \n",
       "37  426.35750          5169.598            0.2574844                     \n",
       "38  362.13764          5418.803            0.2574844                     \n",
       "39  291.71815          5661.256            0.2574844                     \n",
       "40  218.05653          5899.075            0.2574844                     \n",
       "41  156.63129          6143.722            0.2574844                     \n",
       "42   80.66515          6388.010            0.2574844                     \n",
       "43   12.21446          6639.724            0.2574844                     \n",
       "44  -52.58634          6885.781            0.2574844                     \n",
       "45 -133.80095          7126.642            0.2574844                     \n",
       "46 -211.70106          7371.798            0.2574844                     \n",
       "47 -293.94196          7617.119            0.2574844                     \n",
       "48 -379.62667          7877.952            0.2574844                     \n",
       "49 -451.88449          8142.487            0.2574844                     \n",
       "50 -526.78264          8393.789            0.2574844                     \n",
       "51 -601.26120          8658.593            0.2574844                     \n",
       "52 -693.81701          8916.528            0.2574844                     \n",
       "53 -779.06123          9159.827            0.2574844                     \n",
       "54 -851.32279          9429.320            0.2574844                     \n",
       "55 -944.37696          9680.984            0.2574844                     \n",
       "   mean.re74_trt...mean.re74_ctrl mean.re75_trt...mean.re75_ctrl\n",
       "17 -11.45282                      265.1464                      \n",
       "18 -11.45282                      265.1464                      \n",
       "19 -11.45282                      265.1464                      \n",
       "20 -11.45282                      265.1464                      \n",
       "21 -11.45282                      265.1464                      \n",
       "22 -11.45282                      265.1464                      \n",
       "23 -11.45282                      265.1464                      \n",
       "24 -11.45282                      265.1464                      \n",
       "25 -11.45282                      265.1464                      \n",
       "26 -11.45282                      265.1464                      \n",
       "27 -11.45282                      265.1464                      \n",
       "28 -11.45282                      265.1464                      \n",
       "29 -11.45282                      265.1464                      \n",
       "30 -11.45282                      265.1464                      \n",
       "31 -11.45282                      265.1464                      \n",
       "32 -11.45282                      265.1464                      \n",
       "33 -11.45282                      265.1464                      \n",
       "34 -11.45282                      265.1464                      \n",
       "35 -11.45282                      265.1464                      \n",
       "36 -11.45282                      265.1464                      \n",
       "37 -11.45282                      265.1464                      \n",
       "38 -11.45282                      265.1464                      \n",
       "39 -11.45282                      265.1464                      \n",
       "40 -11.45282                      265.1464                      \n",
       "41 -11.45282                      265.1464                      \n",
       "42 -11.45282                      265.1464                      \n",
       "43 -11.45282                      265.1464                      \n",
       "44 -11.45282                      265.1464                      \n",
       "45 -11.45282                      265.1464                      \n",
       "46 -11.45282                      265.1464                      \n",
       "47 -11.45282                      265.1464                      \n",
       "48 -11.45282                      265.1464                      \n",
       "49 -11.45282                      265.1464                      \n",
       "50 -11.45282                      265.1464                      \n",
       "51 -11.45282                      265.1464                      \n",
       "52 -11.45282                      265.1464                      \n",
       "53 -11.45282                      265.1464                      \n",
       "54 -11.45282                      265.1464                      \n",
       "55 -11.45282                      265.1464                      "
      ]
     },
     "execution_count": 11,
     "metadata": {
     },
     "output_type": "execute_result"
    },
    {
     "data": {
      "image/png": "[encoded data removed]",
      "text/plain": [
       "Plot with title “Treatment Effect”"
      ]
     },
     "execution_count": 11,
     "metadata": {
     },
     "output_type": "execute_result"
    }
   ],
   "source": [
    "#c)\n",
    "\n",
    "treat.effect <- matrix(NA, nrow = iterate.num, ncol = length(\n",
    "  min(lalonde$age):max(lalonde$age)))\n",
    "\n",
    "mean.educ_ctrl <- mean(lalonde.control$educ)\n",
    "mean.re74_ctrl <- mean(lalonde.control$re74)\n",
    "mean.re75_ctrl <- mean(lalonde.control$re75)\n",
    "\n",
    "mean.educ_trt <- mean(lalonde.treat$educ)\n",
    "mean.re74_trt <- mean(lalonde.treat$re74)\n",
    "mean.re75_trt <- mean(lalonde.treat$re75)\n",
    "\n",
    "for (a in min(lalonde$age):max(lalonde$age)){\n",
    "  Xs.treat <- c(1, a, a^2, mean.educ_trt, 1, mean.re74_trt, mean.re75_trt, 1*a)\n",
    "  Xs.control <- c(1, a, a^2, mean.educ_ctrl, 0, mean.re74_ctrl, mean.re75_ctrl, 0*a)\n",
    "  for(i in 1:iterate.num) {\n",
    "    treat.effect[i, a + 1 - min(lalonde$age)] <- sum(Xs.treat*lalonde.sim@coef[i, ]) - \n",
    "      sum(Xs.control*sim.lalonde.ctrl@coef[i, ])\n",
    "  }\n",
    "}\n",
    "\n",
    "confintmean.eff <- apply(treat.effect, 2, quantile, probs = c(0.025, 0.975))\n",
    "meantreat.eff <- t(data.frame(confintmean.eff))\n",
    "colnames(meantreat.eff) <- c(\"Mean PI Lower Bound\", \"Mean PI Upper Bound\")\n",
    "meantreat.eff <- data.frame(meantreat.eff, mean.educ_trt - mean.educ_ctrl, \n",
    "                               mean.re74_trt - mean.re74_ctrl, \n",
    "                               mean.re75_trt - mean.re75_ctrl)\n",
    "rownames(meantreat.eff) <- min(lalonde$age):max(lalonde$age)\n",
    "meantreat.eff\n",
    "\n",
    "\n",
    "plot(x = c(1:100), y = c(1:100), type = \"n\", \n",
    "     xlim = c(min(lalonde$age),max(lalonde$age)), \n",
    "     ylim = c(-2000,12000), \n",
    "     main = \"Treatment Effect\", xlab = \"Age\", \n",
    "     ylab = \"Re78\")\n",
    "\n",
    "for (age in min(lalonde$age):max(lalonde$age)) {\n",
    "  segments(\n",
    "    x0 = age,\n",
    "    y0 = confintmean.eff[1, age - min(lalonde$age) + 1],\n",
    "    x1 = age,\n",
    "    y1 = confintmean.eff[2, age - min(lalonde$age) + 1],\n",
    "    lwd = 2)\n",
    "}\n",
    "\n"
   ]
  },
  {
   "cell_type": "code",
   "execution_count": 12,
   "metadata": {
    "collapsed": false
   },
   "outputs": [
    {
     "data": {
      "text/html": [
       "<table>\n",
       "<caption>A data.frame: 39 × 5</caption>\n",
       "<thead>\n",
       "\t<tr><th></th><th scope=col>Median.PI.Lower.Bound</th><th scope=col>Median.PI.Upper.Bound</th><th scope=col>median.educ.t...median.educ.c</th><th scope=col>median.re74.t...median.re74.c</th><th scope=col>median.re75.t...median.re75.c</th></tr>\n",
       "\t<tr><th></th><th scope=col>&lt;dbl&gt;</th><th scope=col>&lt;dbl&gt;</th><th scope=col>&lt;dbl&gt;</th><th scope=col>&lt;dbl&gt;</th><th scope=col>&lt;dbl&gt;</th></tr>\n",
       "</thead>\n",
       "<tbody>\n",
       "\t<tr><th scope=row>17</th><td>-16980.77</td><td>19488.55</td><td>1</td><td>0</td><td>0</td></tr>\n",
       "\t<tr><th scope=row>18</th><td>-17328.90</td><td>19675.93</td><td>1</td><td>0</td><td>0</td></tr>\n",
       "\t<tr><th scope=row>19</th><td>-16689.76</td><td>19743.77</td><td>1</td><td>0</td><td>0</td></tr>\n",
       "\t<tr><th scope=row>20</th><td>-16747.36</td><td>20063.03</td><td>1</td><td>0</td><td>0</td></tr>\n",
       "\t<tr><th scope=row>21</th><td>-16388.70</td><td>19834.48</td><td>1</td><td>0</td><td>0</td></tr>\n",
       "\t<tr><th scope=row>22</th><td>-16381.84</td><td>19857.63</td><td>1</td><td>0</td><td>0</td></tr>\n",
       "\t<tr><th scope=row>23</th><td>-16545.58</td><td>20364.24</td><td>1</td><td>0</td><td>0</td></tr>\n",
       "\t<tr><th scope=row>24</th><td>-16567.86</td><td>19970.67</td><td>1</td><td>0</td><td>0</td></tr>\n",
       "\t<tr><th scope=row>25</th><td>-16154.44</td><td>20114.47</td><td>1</td><td>0</td><td>0</td></tr>\n",
       "\t<tr><th scope=row>26</th><td>-16448.70</td><td>20174.55</td><td>1</td><td>0</td><td>0</td></tr>\n",
       "\t<tr><th scope=row>27</th><td>-16113.07</td><td>20391.58</td><td>1</td><td>0</td><td>0</td></tr>\n",
       "\t<tr><th scope=row>28</th><td>-16268.45</td><td>20418.91</td><td>1</td><td>0</td><td>0</td></tr>\n",
       "\t<tr><th scope=row>29</th><td>-15808.04</td><td>20455.33</td><td>1</td><td>0</td><td>0</td></tr>\n",
       "\t<tr><th scope=row>30</th><td>-16113.73</td><td>20663.81</td><td>1</td><td>0</td><td>0</td></tr>\n",
       "\t<tr><th scope=row>31</th><td>-16079.47</td><td>20368.51</td><td>1</td><td>0</td><td>0</td></tr>\n",
       "\t<tr><th scope=row>32</th><td>-15524.44</td><td>21113.00</td><td>1</td><td>0</td><td>0</td></tr>\n",
       "\t<tr><th scope=row>33</th><td>-15443.57</td><td>20848.86</td><td>1</td><td>0</td><td>0</td></tr>\n",
       "\t<tr><th scope=row>34</th><td>-15269.14</td><td>20904.13</td><td>1</td><td>0</td><td>0</td></tr>\n",
       "\t<tr><th scope=row>35</th><td>-15600.04</td><td>21448.40</td><td>1</td><td>0</td><td>0</td></tr>\n",
       "\t<tr><th scope=row>36</th><td>-15600.13</td><td>21459.70</td><td>1</td><td>0</td><td>0</td></tr>\n",
       "\t<tr><th scope=row>37</th><td>-15206.84</td><td>21569.41</td><td>1</td><td>0</td><td>0</td></tr>\n",
       "\t<tr><th scope=row>38</th><td>-15401.66</td><td>21787.59</td><td>1</td><td>0</td><td>0</td></tr>\n",
       "\t<tr><th scope=row>39</th><td>-14923.16</td><td>21914.65</td><td>1</td><td>0</td><td>0</td></tr>\n",
       "\t<tr><th scope=row>40</th><td>-15098.53</td><td>21983.77</td><td>1</td><td>0</td><td>0</td></tr>\n",
       "\t<tr><th scope=row>41</th><td>-15723.74</td><td>21871.63</td><td>1</td><td>0</td><td>0</td></tr>\n",
       "\t<tr><th scope=row>42</th><td>-15215.56</td><td>21603.72</td><td>1</td><td>0</td><td>0</td></tr>\n",
       "\t<tr><th scope=row>43</th><td>-14792.07</td><td>22271.92</td><td>1</td><td>0</td><td>0</td></tr>\n",
       "\t<tr><th scope=row>44</th><td>-14944.03</td><td>22097.74</td><td>1</td><td>0</td><td>0</td></tr>\n",
       "\t<tr><th scope=row>45</th><td>-14914.78</td><td>22594.49</td><td>1</td><td>0</td><td>0</td></tr>\n",
       "\t<tr><th scope=row>46</th><td>-14372.20</td><td>21988.22</td><td>1</td><td>0</td><td>0</td></tr>\n",
       "\t<tr><th scope=row>47</th><td>-15064.90</td><td>22786.71</td><td>1</td><td>0</td><td>0</td></tr>\n",
       "\t<tr><th scope=row>48</th><td>-14948.00</td><td>22450.76</td><td>1</td><td>0</td><td>0</td></tr>\n",
       "\t<tr><th scope=row>49</th><td>-14187.96</td><td>23011.39</td><td>1</td><td>0</td><td>0</td></tr>\n",
       "\t<tr><th scope=row>50</th><td>-14440.58</td><td>22759.99</td><td>1</td><td>0</td><td>0</td></tr>\n",
       "\t<tr><th scope=row>51</th><td>-14459.03</td><td>23536.75</td><td>1</td><td>0</td><td>0</td></tr>\n",
       "\t<tr><th scope=row>52</th><td>-14481.74</td><td>22843.00</td><td>1</td><td>0</td><td>0</td></tr>\n",
       "\t<tr><th scope=row>53</th><td>-14519.55</td><td>23368.17</td><td>1</td><td>0</td><td>0</td></tr>\n",
       "\t<tr><th scope=row>54</th><td>-14324.26</td><td>23647.63</td><td>1</td><td>0</td><td>0</td></tr>\n",
       "\t<tr><th scope=row>55</th><td>-14267.95</td><td>23739.83</td><td>1</td><td>0</td><td>0</td></tr>\n",
       "</tbody>\n",
       "</table>\n"
      ],
      "text/latex": [
       "A data.frame: 39 × 5\n",
       "\\begin{tabular}{r|lllll}\n",
       "  & Median.PI.Lower.Bound & Median.PI.Upper.Bound & median.educ.t...median.educ.c & median.re74.t...median.re74.c & median.re75.t...median.re75.c\\\\\n",
       "  & <dbl> & <dbl> & <dbl> & <dbl> & <dbl>\\\\\n",
       "\\hline\n",
       "\t17 & -16980.77 & 19488.55 & 1 & 0 & 0\\\\\n",
       "\t18 & -17328.90 & 19675.93 & 1 & 0 & 0\\\\\n",
       "\t19 & -16689.76 & 19743.77 & 1 & 0 & 0\\\\\n",
       "\t20 & -16747.36 & 20063.03 & 1 & 0 & 0\\\\\n",
       "\t21 & -16388.70 & 19834.48 & 1 & 0 & 0\\\\\n",
       "\t22 & -16381.84 & 19857.63 & 1 & 0 & 0\\\\\n",
       "\t23 & -16545.58 & 20364.24 & 1 & 0 & 0\\\\\n",
       "\t24 & -16567.86 & 19970.67 & 1 & 0 & 0\\\\\n",
       "\t25 & -16154.44 & 20114.47 & 1 & 0 & 0\\\\\n",
       "\t26 & -16448.70 & 20174.55 & 1 & 0 & 0\\\\\n",
       "\t27 & -16113.07 & 20391.58 & 1 & 0 & 0\\\\\n",
       "\t28 & -16268.45 & 20418.91 & 1 & 0 & 0\\\\\n",
       "\t29 & -15808.04 & 20455.33 & 1 & 0 & 0\\\\\n",
       "\t30 & -16113.73 & 20663.81 & 1 & 0 & 0\\\\\n",
       "\t31 & -16079.47 & 20368.51 & 1 & 0 & 0\\\\\n",
       "\t32 & -15524.44 & 21113.00 & 1 & 0 & 0\\\\\n",
       "\t33 & -15443.57 & 20848.86 & 1 & 0 & 0\\\\\n",
       "\t34 & -15269.14 & 20904.13 & 1 & 0 & 0\\\\\n",
       "\t35 & -15600.04 & 21448.40 & 1 & 0 & 0\\\\\n",
       "\t36 & -15600.13 & 21459.70 & 1 & 0 & 0\\\\\n",
       "\t37 & -15206.84 & 21569.41 & 1 & 0 & 0\\\\\n",
       "\t38 & -15401.66 & 21787.59 & 1 & 0 & 0\\\\\n",
       "\t39 & -14923.16 & 21914.65 & 1 & 0 & 0\\\\\n",
       "\t40 & -15098.53 & 21983.77 & 1 & 0 & 0\\\\\n",
       "\t41 & -15723.74 & 21871.63 & 1 & 0 & 0\\\\\n",
       "\t42 & -15215.56 & 21603.72 & 1 & 0 & 0\\\\\n",
       "\t43 & -14792.07 & 22271.92 & 1 & 0 & 0\\\\\n",
       "\t44 & -14944.03 & 22097.74 & 1 & 0 & 0\\\\\n",
       "\t45 & -14914.78 & 22594.49 & 1 & 0 & 0\\\\\n",
       "\t46 & -14372.20 & 21988.22 & 1 & 0 & 0\\\\\n",
       "\t47 & -15064.90 & 22786.71 & 1 & 0 & 0\\\\\n",
       "\t48 & -14948.00 & 22450.76 & 1 & 0 & 0\\\\\n",
       "\t49 & -14187.96 & 23011.39 & 1 & 0 & 0\\\\\n",
       "\t50 & -14440.58 & 22759.99 & 1 & 0 & 0\\\\\n",
       "\t51 & -14459.03 & 23536.75 & 1 & 0 & 0\\\\\n",
       "\t52 & -14481.74 & 22843.00 & 1 & 0 & 0\\\\\n",
       "\t53 & -14519.55 & 23368.17 & 1 & 0 & 0\\\\\n",
       "\t54 & -14324.26 & 23647.63 & 1 & 0 & 0\\\\\n",
       "\t55 & -14267.95 & 23739.83 & 1 & 0 & 0\\\\\n",
       "\\end{tabular}\n"
      ],
      "text/markdown": [
       "\n",
       "A data.frame: 39 × 5\n",
       "\n",
       "| <!--/--> | Median.PI.Lower.Bound &lt;dbl&gt; | Median.PI.Upper.Bound &lt;dbl&gt; | median.educ.t...median.educ.c &lt;dbl&gt; | median.re74.t...median.re74.c &lt;dbl&gt; | median.re75.t...median.re75.c &lt;dbl&gt; |\n",
       "|---|---|---|---|---|---|\n",
       "| 17 | -16980.77 | 19488.55 | 1 | 0 | 0 |\n",
       "| 18 | -17328.90 | 19675.93 | 1 | 0 | 0 |\n",
       "| 19 | -16689.76 | 19743.77 | 1 | 0 | 0 |\n",
       "| 20 | -16747.36 | 20063.03 | 1 | 0 | 0 |\n",
       "| 21 | -16388.70 | 19834.48 | 1 | 0 | 0 |\n",
       "| 22 | -16381.84 | 19857.63 | 1 | 0 | 0 |\n",
       "| 23 | -16545.58 | 20364.24 | 1 | 0 | 0 |\n",
       "| 24 | -16567.86 | 19970.67 | 1 | 0 | 0 |\n",
       "| 25 | -16154.44 | 20114.47 | 1 | 0 | 0 |\n",
       "| 26 | -16448.70 | 20174.55 | 1 | 0 | 0 |\n",
       "| 27 | -16113.07 | 20391.58 | 1 | 0 | 0 |\n",
       "| 28 | -16268.45 | 20418.91 | 1 | 0 | 0 |\n",
       "| 29 | -15808.04 | 20455.33 | 1 | 0 | 0 |\n",
       "| 30 | -16113.73 | 20663.81 | 1 | 0 | 0 |\n",
       "| 31 | -16079.47 | 20368.51 | 1 | 0 | 0 |\n",
       "| 32 | -15524.44 | 21113.00 | 1 | 0 | 0 |\n",
       "| 33 | -15443.57 | 20848.86 | 1 | 0 | 0 |\n",
       "| 34 | -15269.14 | 20904.13 | 1 | 0 | 0 |\n",
       "| 35 | -15600.04 | 21448.40 | 1 | 0 | 0 |\n",
       "| 36 | -15600.13 | 21459.70 | 1 | 0 | 0 |\n",
       "| 37 | -15206.84 | 21569.41 | 1 | 0 | 0 |\n",
       "| 38 | -15401.66 | 21787.59 | 1 | 0 | 0 |\n",
       "| 39 | -14923.16 | 21914.65 | 1 | 0 | 0 |\n",
       "| 40 | -15098.53 | 21983.77 | 1 | 0 | 0 |\n",
       "| 41 | -15723.74 | 21871.63 | 1 | 0 | 0 |\n",
       "| 42 | -15215.56 | 21603.72 | 1 | 0 | 0 |\n",
       "| 43 | -14792.07 | 22271.92 | 1 | 0 | 0 |\n",
       "| 44 | -14944.03 | 22097.74 | 1 | 0 | 0 |\n",
       "| 45 | -14914.78 | 22594.49 | 1 | 0 | 0 |\n",
       "| 46 | -14372.20 | 21988.22 | 1 | 0 | 0 |\n",
       "| 47 | -15064.90 | 22786.71 | 1 | 0 | 0 |\n",
       "| 48 | -14948.00 | 22450.76 | 1 | 0 | 0 |\n",
       "| 49 | -14187.96 | 23011.39 | 1 | 0 | 0 |\n",
       "| 50 | -14440.58 | 22759.99 | 1 | 0 | 0 |\n",
       "| 51 | -14459.03 | 23536.75 | 1 | 0 | 0 |\n",
       "| 52 | -14481.74 | 22843.00 | 1 | 0 | 0 |\n",
       "| 53 | -14519.55 | 23368.17 | 1 | 0 | 0 |\n",
       "| 54 | -14324.26 | 23647.63 | 1 | 0 | 0 |\n",
       "| 55 | -14267.95 | 23739.83 | 1 | 0 | 0 |\n",
       "\n"
      ],
      "text/plain": [
       "   Median.PI.Lower.Bound Median.PI.Upper.Bound median.educ.t...median.educ.c\n",
       "17 -16980.77             19488.55              1                            \n",
       "18 -17328.90             19675.93              1                            \n",
       "19 -16689.76             19743.77              1                            \n",
       "20 -16747.36             20063.03              1                            \n",
       "21 -16388.70             19834.48              1                            \n",
       "22 -16381.84             19857.63              1                            \n",
       "23 -16545.58             20364.24              1                            \n",
       "24 -16567.86             19970.67              1                            \n",
       "25 -16154.44             20114.47              1                            \n",
       "26 -16448.70             20174.55              1                            \n",
       "27 -16113.07             20391.58              1                            \n",
       "28 -16268.45             20418.91              1                            \n",
       "29 -15808.04             20455.33              1                            \n",
       "30 -16113.73             20663.81              1                            \n",
       "31 -16079.47             20368.51              1                            \n",
       "32 -15524.44             21113.00              1                            \n",
       "33 -15443.57             20848.86              1                            \n",
       "34 -15269.14             20904.13              1                            \n",
       "35 -15600.04             21448.40              1                            \n",
       "36 -15600.13             21459.70              1                            \n",
       "37 -15206.84             21569.41              1                            \n",
       "38 -15401.66             21787.59              1                            \n",
       "39 -14923.16             21914.65              1                            \n",
       "40 -15098.53             21983.77              1                            \n",
       "41 -15723.74             21871.63              1                            \n",
       "42 -15215.56             21603.72              1                            \n",
       "43 -14792.07             22271.92              1                            \n",
       "44 -14944.03             22097.74              1                            \n",
       "45 -14914.78             22594.49              1                            \n",
       "46 -14372.20             21988.22              1                            \n",
       "47 -15064.90             22786.71              1                            \n",
       "48 -14948.00             22450.76              1                            \n",
       "49 -14187.96             23011.39              1                            \n",
       "50 -14440.58             22759.99              1                            \n",
       "51 -14459.03             23536.75              1                            \n",
       "52 -14481.74             22843.00              1                            \n",
       "53 -14519.55             23368.17              1                            \n",
       "54 -14324.26             23647.63              1                            \n",
       "55 -14267.95             23739.83              1                            \n",
       "   median.re74.t...median.re74.c median.re75.t...median.re75.c\n",
       "17 0                             0                            \n",
       "18 0                             0                            \n",
       "19 0                             0                            \n",
       "20 0                             0                            \n",
       "21 0                             0                            \n",
       "22 0                             0                            \n",
       "23 0                             0                            \n",
       "24 0                             0                            \n",
       "25 0                             0                            \n",
       "26 0                             0                            \n",
       "27 0                             0                            \n",
       "28 0                             0                            \n",
       "29 0                             0                            \n",
       "30 0                             0                            \n",
       "31 0                             0                            \n",
       "32 0                             0                            \n",
       "33 0                             0                            \n",
       "34 0                             0                            \n",
       "35 0                             0                            \n",
       "36 0                             0                            \n",
       "37 0                             0                            \n",
       "38 0                             0                            \n",
       "39 0                             0                            \n",
       "40 0                             0                            \n",
       "41 0                             0                            \n",
       "42 0                             0                            \n",
       "43 0                             0                            \n",
       "44 0                             0                            \n",
       "45 0                             0                            \n",
       "46 0                             0                            \n",
       "47 0                             0                            \n",
       "48 0                             0                            \n",
       "49 0                             0                            \n",
       "50 0                             0                            \n",
       "51 0                             0                            \n",
       "52 0                             0                            \n",
       "53 0                             0                            \n",
       "54 0                             0                            \n",
       "55 0                             0                            "
      ]
     },
     "execution_count": 12,
     "metadata": {
     },
     "output_type": "execute_result"
    },
    {
     "data": {
      "image/png": "[encoded data removed]",
      "text/plain": [
       "Plot with title “Prediction Intervals”"
      ]
     },
     "execution_count": 12,
     "metadata": {
     },
     "output_type": "execute_result"
    }
   ],
   "source": [
    "median.educ.c <- median(lalonde.control$educ)\n",
    "median.re74.c <- median(lalonde.control$re74)\n",
    "median.re75.c <- median(lalonde.control$re75)\n",
    "\n",
    "\n",
    "median.educ.t <- median(lalonde.treat$educ)\n",
    "median.re74.t <- median(lalonde.treat$re74)\n",
    "median.re75.t <- median(lalonde.treat$re75)\n",
    "\n",
    "for (a in min(lalonde$age):max(lalonde$age)) {\n",
    "  X1.treat <- c(1, a, a^2, median.educ.t, 1, median.re74.t, median.re75.t, 1*a)\n",
    "  X2.control <- c(1, a, a^2, median.educ.c, 0, median.re74.c, median.re75.c, 0*a)\n",
    "  for(i in 1:iterate.num) {\n",
    "    treat.effect[i, a + 1 - min(lalonde$age)] <- (sum(X1.treat*lalonde.sim@coef[i, ]) + rnorm(1, 0, lalonde.sim@sigma[i])) - \n",
    "      (sum(X2.control*sim.lalonde.ctrl@coef[i, ]) + rnorm(1, 0, sim.lalonde.ctrl@sigma[i])) \n",
    "  }\n",
    "}\n",
    "\n",
    "# Confidence intervals and tables\n",
    "confintmed.eff <- apply(treat.effect, 2, quantile, probs = c(0.025, 0.975))\n",
    "mediantreat.eff <- t(data.frame(confintmed.eff))\n",
    "colnames(mediantreat.eff) <- c(\"Median PI Lower Bound\", \"Median PI Upper Bound\")\n",
    "mediantreat.eff <- data.frame(mediantreat.eff, median.educ.t - median.educ.c, \n",
    "                                  median.re74.t - median.re74.c, \n",
    "                                  median.re75.t - median.re75.c)\n",
    "rownames(mediantreat.eff) <- min(lalonde$age):max(lalonde$age)\n",
    "mediantreat.eff\n",
    "\n",
    "\n",
    "\n",
    "plot(x = c(1:100), y = c(1:100), type = \"n\", \n",
    "     xlim = c(min(lalonde$age),max(lalonde$age)), \n",
    "     ylim = c(-20000, 30000), \n",
    "     main = \"Prediction Intervals\", xlab = \"Age\", \n",
    "     ylab = \"Re78\")\n",
    "\n",
    "for (age in min(lalonde$age):max(lalonde$age)) {\n",
    "  segments(\n",
    "    x0 = age,\n",
    "    y0 = confintmed.eff[1, age - min(lalonde$age) + 1],\n",
    "    x1 = age,\n",
    "    y1 = confintmed.eff[2, age - min(lalonde$age) + 1],\n",
    "    lwd = 2)\n",
    "}\n"
   ]
  },
  {
   "cell_type": "code",
   "execution_count": 22,
   "metadata": {
    "collapsed": false
   },
   "outputs": [
    {
     "data": {
      "text/html": [
       "<table>\n",
       "<caption>A data.frame: 6 × 10</caption>\n",
       "<thead>\n",
       "\t<tr><th scope=col>SCHOOL</th><th scope=col>DISTRICT</th><th scope=col>TREATMENT</th><th scope=col>MATH_SCORE</th><th scope=col>READ_SCORE</th><th scope=col>PRIOR_MATH_SCORE</th><th scope=col>PRIOR_READ_SCORE</th><th scope=col>GENDER</th><th scope=col>SG_MATH_PROF</th><th scope=col>SG_READ_PROF</th></tr>\n",
       "\t<tr><th scope=col>&lt;int&gt;</th><th scope=col>&lt;int&gt;</th><th scope=col>&lt;int&gt;</th><th scope=col>&lt;dbl&gt;</th><th scope=col>&lt;dbl&gt;</th><th scope=col>&lt;dbl&gt;</th><th scope=col>&lt;dbl&gt;</th><th scope=col>&lt;int&gt;</th><th scope=col>&lt;int&gt;</th><th scope=col>&lt;int&gt;</th></tr>\n",
       "</thead>\n",
       "<tbody>\n",
       "\t<tr><td>1</td><td>1</td><td>0</td><td>62.41541</td><td>60.66273</td><td>57.70976</td><td>55.42374</td><td>0</td><td>1</td><td>1</td></tr>\n",
       "\t<tr><td>1</td><td>1</td><td>0</td><td>42.06018</td><td>60.00448</td><td>52.16401</td><td>50.43956</td><td>0</td><td>1</td><td>1</td></tr>\n",
       "\t<tr><td>1</td><td>1</td><td>0</td><td>61.64790</td><td>62.46757</td><td>54.99372</td><td>55.42374</td><td>1</td><td>1</td><td>1</td></tr>\n",
       "\t<tr><td>1</td><td>1</td><td>0</td><td>41.51383</td><td>59.56616</td><td>61.67929</td><td>60.40791</td><td>1</td><td>1</td><td>2</td></tr>\n",
       "\t<tr><td>1</td><td>1</td><td>0</td><td>49.09638</td><td>52.16666</td><td>57.62475</td><td>45.45539</td><td>0</td><td>1</td><td>1</td></tr>\n",
       "\t<tr><td>1</td><td>1</td><td>0</td><td>48.61066</td><td>      NA</td><td>59.33332</td><td>50.43956</td><td>1</td><td>1</td><td>1</td></tr>\n",
       "</tbody>\n",
       "</table>\n"
      ],
      "text/latex": [
       "A data.frame: 6 × 10\n",
       "\\begin{tabular}{r|llllllllll}\n",
       " SCHOOL & DISTRICT & TREATMENT & MATH\\_SCORE & READ\\_SCORE & PRIOR\\_MATH\\_SCORE & PRIOR\\_READ\\_SCORE & GENDER & SG\\_MATH\\_PROF & SG\\_READ\\_PROF\\\\\n",
       " <int> & <int> & <int> & <dbl> & <dbl> & <dbl> & <dbl> & <int> & <int> & <int>\\\\\n",
       "\\hline\n",
       "\t 1 & 1 & 0 & 62.41541 & 60.66273 & 57.70976 & 55.42374 & 0 & 1 & 1\\\\\n",
       "\t 1 & 1 & 0 & 42.06018 & 60.00448 & 52.16401 & 50.43956 & 0 & 1 & 1\\\\\n",
       "\t 1 & 1 & 0 & 61.64790 & 62.46757 & 54.99372 & 55.42374 & 1 & 1 & 1\\\\\n",
       "\t 1 & 1 & 0 & 41.51383 & 59.56616 & 61.67929 & 60.40791 & 1 & 1 & 2\\\\\n",
       "\t 1 & 1 & 0 & 49.09638 & 52.16666 & 57.62475 & 45.45539 & 0 & 1 & 1\\\\\n",
       "\t 1 & 1 & 0 & 48.61066 &       NA & 59.33332 & 50.43956 & 1 & 1 & 1\\\\\n",
       "\\end{tabular}\n"
      ],
      "text/markdown": [
       "\n",
       "A data.frame: 6 × 10\n",
       "\n",
       "| SCHOOL &lt;int&gt; | DISTRICT &lt;int&gt; | TREATMENT &lt;int&gt; | MATH_SCORE &lt;dbl&gt; | READ_SCORE &lt;dbl&gt; | PRIOR_MATH_SCORE &lt;dbl&gt; | PRIOR_READ_SCORE &lt;dbl&gt; | GENDER &lt;int&gt; | SG_MATH_PROF &lt;int&gt; | SG_READ_PROF &lt;int&gt; |\n",
       "|---|---|---|---|---|---|---|---|---|---|\n",
       "| 1 | 1 | 0 | 62.41541 | 60.66273 | 57.70976 | 55.42374 | 0 | 1 | 1 |\n",
       "| 1 | 1 | 0 | 42.06018 | 60.00448 | 52.16401 | 50.43956 | 0 | 1 | 1 |\n",
       "| 1 | 1 | 0 | 61.64790 | 62.46757 | 54.99372 | 55.42374 | 1 | 1 | 1 |\n",
       "| 1 | 1 | 0 | 41.51383 | 59.56616 | 61.67929 | 60.40791 | 1 | 1 | 2 |\n",
       "| 1 | 1 | 0 | 49.09638 | 52.16666 | 57.62475 | 45.45539 | 0 | 1 | 1 |\n",
       "| 1 | 1 | 0 | 48.61066 |       NA | 59.33332 | 50.43956 | 1 | 1 | 1 |\n",
       "\n"
      ],
      "text/plain": [
       "  SCHOOL DISTRICT TREATMENT MATH_SCORE READ_SCORE PRIOR_MATH_SCORE\n",
       "1 1      1        0         62.41541   60.66273   57.70976        \n",
       "2 1      1        0         42.06018   60.00448   52.16401        \n",
       "3 1      1        0         61.64790   62.46757   54.99372        \n",
       "4 1      1        0         41.51383   59.56616   61.67929        \n",
       "5 1      1        0         49.09638   52.16666   57.62475        \n",
       "6 1      1        0         48.61066         NA   59.33332        \n",
       "  PRIOR_READ_SCORE GENDER SG_MATH_PROF SG_READ_PROF\n",
       "1 55.42374         0      1            1           \n",
       "2 50.43956         0      1            1           \n",
       "3 55.42374         1      1            1           \n",
       "4 60.40791         1      1            2           \n",
       "5 45.45539         0      1            1           \n",
       "6 50.43956         1      1            1           "
      ]
     },
     "execution_count": 22,
     "metadata": {
     },
     "output_type": "execute_result"
    },
    {
     "data": {
      "text/plain": [
       "\n",
       "Call:\n",
       "lm(formula = MATH_SCORE ~ TREATMENT, data = afterschool)\n",
       "\n",
       "Residuals:\n",
       "    Min      1Q  Median      3Q     Max \n",
       "-58.229  -7.982   0.663   9.013  39.097 \n",
       "\n",
       "Coefficients:\n",
       "            Estimate Std. Error t value Pr(>|t|)    \n",
       "(Intercept)  56.1705     0.3942 142.484  < 2e-16 ***\n",
       "TREATMENT     3.8787     0.5711   6.791 1.45e-11 ***\n",
       "---\n",
       "Signif. codes:  0 ‘***’ 0.001 ‘**’ 0.01 ‘*’ 0.05 ‘.’ 0.1 ‘ ’ 1\n",
       "\n",
       "Residual standard error: 12.88 on 2036 degrees of freedom\n",
       "  (218 observations deleted due to missingness)\n",
       "Multiple R-squared:  0.02215,\tAdjusted R-squared:  0.02167 \n",
       "F-statistic: 46.12 on 1 and 2036 DF,  p-value: 1.453e-11\n"
      ]
     },
     "execution_count": 22,
     "metadata": {
     },
     "output_type": "execute_result"
    },
    {
     "data": {
      "text/html": [
       "3.87873540866656"
      ],
      "text/latex": [
       "3.87873540866656"
      ],
      "text/markdown": [
       "3.87873540866656"
      ],
      "text/plain": [
       "[1] 3.878735"
      ]
     },
     "execution_count": 22,
     "metadata": {
     },
     "output_type": "execute_result"
    },
    {
     "data": {
      "text/html": [
       "3.88588532867547"
      ],
      "text/latex": [
       "3.88588532867547"
      ],
      "text/markdown": [
       "3.88588532867547"
      ],
      "text/plain": [
       "[1] 3.885885"
      ]
     },
     "execution_count": 22,
     "metadata": {
     },
     "output_type": "execute_result"
    },
    {
     "data": {
      "text/html": [
       "<dl class=dl-horizontal>\n",
       "\t<dt>2.5%</dt>\n",
       "\t\t<dd>2.76845521221266</dd>\n",
       "\t<dt>97.5%</dt>\n",
       "\t\t<dd>4.99712669176716</dd>\n",
       "</dl>\n"
      ],
      "text/latex": [
       "\\begin{description*}\n",
       "\\item[2.5\\textbackslash{}\\%] 2.76845521221266\n",
       "\\item[97.5\\textbackslash{}\\%] 4.99712669176716\n",
       "\\end{description*}\n"
      ],
      "text/markdown": [
       "2.5%\n",
       ":   2.7684552122126697.5%\n",
       ":   4.99712669176716\n",
       "\n"
      ],
      "text/plain": [
       "    2.5%    97.5% \n",
       "2.768455 4.997127 "
      ]
     },
     "execution_count": 22,
     "metadata": {
     },
     "output_type": "execute_result"
    },
    {
     "data": {
      "text/html": [
       "3.87873540866656"
      ],
      "text/latex": [
       "3.87873540866656"
      ],
      "text/markdown": [
       "3.87873540866656"
      ],
      "text/plain": [
       "[1] 3.878735"
      ]
     },
     "execution_count": 22,
     "metadata": {
     },
     "output_type": "execute_result"
    },
    {
     "data": {
      "text/html": [
       "<table>\n",
       "<caption>A matrix: 2 × 2 of type dbl</caption>\n",
       "<thead>\n",
       "\t<tr><th></th><th scope=col>2.5 %</th><th scope=col>97.5 %</th></tr>\n",
       "</thead>\n",
       "<tbody>\n",
       "\t<tr><th scope=row>(Intercept)</th><td>55.397369</td><td>56.943612</td></tr>\n",
       "\t<tr><th scope=row>TREATMENT</th><td> 2.758678</td><td> 4.998793</td></tr>\n",
       "</tbody>\n",
       "</table>\n"
      ],
      "text/latex": [
       "A matrix: 2 × 2 of type dbl\n",
       "\\begin{tabular}{r|ll}\n",
       "  & 2.5 \\% & 97.5 \\%\\\\\n",
       "\\hline\n",
       "\t(Intercept) & 55.397369 & 56.943612\\\\\n",
       "\tTREATMENT &  2.758678 &  4.998793\\\\\n",
       "\\end{tabular}\n"
      ],
      "text/markdown": [
       "\n",
       "A matrix: 2 × 2 of type dbl\n",
       "\n",
       "| <!--/--> | 2.5 % | 97.5 % |\n",
       "|---|---|---|\n",
       "| (Intercept) | 55.397369 | 56.943612 |\n",
       "| TREATMENT |  2.758678 |  4.998793 |\n",
       "\n"
      ],
      "text/plain": [
       "            2.5 %     97.5 %   \n",
       "(Intercept) 55.397369 56.943612\n",
       "TREATMENT    2.758678  4.998793"
      ]
     },
     "execution_count": 22,
     "metadata": {
     },
     "output_type": "execute_result"
    },
    {
     "data": {
      "image/png": "[encoded data removed]",
      "text/plain": [
       "Plot with title “Histogram (Observed Effect)”"
      ]
     },
     "execution_count": 22,
     "metadata": {
     },
     "output_type": "execute_result"
    }
   ],
   "source": [
    "afterschool <- read.csv(\"school\")\n",
    "head(afterschool)\n",
    "\n",
    "\n",
    "mathscore.lm <- lm(MATH_SCORE ~ TREATMENT, data = afterschool)\n",
    "summary(mathscore.lm)\n",
    "summary(mathscore.lm)$coef[2]\n",
    "\n",
    "\n",
    "iterate.num <- 10000\n",
    "storage <- rep(NA, iterate.num)\n",
    "for (i in 1:iterate.num) {\n",
    "  temp_lm = lm(MATH_SCORE ~ TREATMENT, data = afterschool[sample(1:nrow(afterschool), nrow(afterschool), replace = T),])\n",
    "  storage[i] <- temp_lm$coefficients[2]\n",
    "}\n",
    "\n",
    "# Histogram\n",
    "hist(storage, lwd = 2,\n",
    "     main = \"Histogram (Observed Effect)\",\n",
    "     ylim = c(0, 1700),\n",
    "     xlab = \"Weight\",\n",
    "     ylab = \"Frequency\")\n",
    "abline(v = mean(storage),\n",
    "       col = rgb(1,0,0,0.3),\n",
    "       lwd = 5)\n",
    "abline(v = quantile(storage, 0.025),\n",
    "       col = \"black\",\n",
    "       lwd = 4)\n",
    "abline(v = quantile(storage, 0.975),\n",
    "       col = \"black\",\n",
    "       lwd = 4)\n",
    "abline(v = summary(lm.afterschool)$coef[2],\n",
    "       col = rgb(0,1,0,0.3),\n",
    "       lwd = 2)\n",
    "\n",
    "mean(storage)\n",
    "quantile(storage, c(0.025, 0.975))\n",
    "summary(lm.afterschool)$coef[2]\n",
    "confint(lm.afterschool, level = 0.95)"
   ]
  },
  {
   "cell_type": "markdown",
   "metadata": {
    "collapsed": false
   },
   "source": [
    "As you can see the bootstrapped values "
   ]
  },
  {
   "cell_type": "code",
   "execution_count": 26,
   "metadata": {
    "collapsed": false,
    "scrolled": true
   },
   "outputs": [
    {
     "data": {
      "text/html": [
       "0.0216491131634504"
      ],
      "text/latex": [
       "0.0216491131634504"
      ],
      "text/markdown": [
       "0.0216491131634504"
      ],
      "text/plain": [
       "[1] 0.02164911"
      ]
     },
     "execution_count": 26,
     "metadata": {
     },
     "output_type": "execute_result"
    },
    {
     "data": {
      "text/html": [
       "0.0221516498079076"
      ],
      "text/latex": [
       "0.0221516498079076"
      ],
      "text/markdown": [
       "0.0221516498079076"
      ],
      "text/plain": [
       "[1] 0.02215165"
      ]
     },
     "execution_count": 26,
     "metadata": {
     },
     "output_type": "execute_result"
    }
   ],
   "source": [
    "#Q4\n",
    "r_squared <- function(true.y, pred.y) {\n",
    "  iterations <- 200000\n",
    "  storage <- rep(NA, iterations)\n",
    "  for (i in 1:iterations){\n",
    "    indices <- sample(1:length(true.y), length(true.y), replace = T)\n",
    "    newtrue.y <- true.y[indices]\n",
    "    newpred.y <- pred.y[indices]\n",
    "    rss <- sum((newtrue.y - newpred.y)**2)\n",
    "    tss <- sum((newtrue.y - mean(newtrue.y))**2)\n",
    "    storage[i] <- (1 - rss/tss)\n",
    "  }\n",
    "  return(mean(storage))\n",
    "}\n",
    "\n",
    "\n",
    "afterschool <- read.csv(\"school\")\n",
    "afterschool.math <- afterschool[!is.na(afterschool$MATH_SCORE), ]\n",
    "mathscore.lm2 <- lm(MATH_SCORE ~ TREATMENT, data = afterschool.math)\n",
    "\n",
    "\n",
    "r_squared(afterschool.math$MATH_SCORE, mathscore.lm2$fitted.values)\n",
    "summary(lm(MATH_SCORE ~ TREATMENT , data = afterschool))$r.squared\n",
    "\n"
   ]
  },
  {
   "cell_type": "code",
   "execution_count": 29,
   "metadata": {
    "collapsed": false
   },
   "outputs": [
    {
     "data": {
      "text/html": [
       "<table>\n",
       "<caption>A data.frame: 6 × 12</caption>\n",
       "<thead>\n",
       "\t<tr><th scope=col>treat</th><th scope=col>age</th><th scope=col>education</th><th scope=col>black</th><th scope=col>hispanic</th><th scope=col>married</th><th scope=col>nodegree</th><th scope=col>re74</th><th scope=col>re75</th><th scope=col>re78</th><th scope=col>u74</th><th scope=col>u75</th></tr>\n",
       "\t<tr><th scope=col>&lt;int&gt;</th><th scope=col>&lt;int&gt;</th><th scope=col>&lt;int&gt;</th><th scope=col>&lt;int&gt;</th><th scope=col>&lt;int&gt;</th><th scope=col>&lt;int&gt;</th><th scope=col>&lt;int&gt;</th><th scope=col>&lt;dbl&gt;</th><th scope=col>&lt;dbl&gt;</th><th scope=col>&lt;dbl&gt;</th><th scope=col>&lt;lgl&gt;</th><th scope=col>&lt;lgl&gt;</th></tr>\n",
       "</thead>\n",
       "<tbody>\n",
       "\t<tr><td>1</td><td>37</td><td>11</td><td>1</td><td>0</td><td>1</td><td>1</td><td>0</td><td>0</td><td> 9930.0459</td><td>TRUE</td><td>TRUE</td></tr>\n",
       "\t<tr><td>1</td><td>22</td><td> 9</td><td>0</td><td>1</td><td>0</td><td>1</td><td>0</td><td>0</td><td> 3595.8940</td><td>TRUE</td><td>TRUE</td></tr>\n",
       "\t<tr><td>1</td><td>30</td><td>12</td><td>1</td><td>0</td><td>0</td><td>0</td><td>0</td><td>0</td><td>24909.4492</td><td>TRUE</td><td>TRUE</td></tr>\n",
       "\t<tr><td>1</td><td>27</td><td>11</td><td>1</td><td>0</td><td>0</td><td>1</td><td>0</td><td>0</td><td> 7506.1460</td><td>TRUE</td><td>TRUE</td></tr>\n",
       "\t<tr><td>1</td><td>33</td><td> 8</td><td>1</td><td>0</td><td>0</td><td>1</td><td>0</td><td>0</td><td>  289.7899</td><td>TRUE</td><td>TRUE</td></tr>\n",
       "\t<tr><td>1</td><td>22</td><td> 9</td><td>1</td><td>0</td><td>0</td><td>1</td><td>0</td><td>0</td><td> 4056.4939</td><td>TRUE</td><td>TRUE</td></tr>\n",
       "</tbody>\n",
       "</table>\n"
      ],
      "text/latex": [
       "A data.frame: 6 × 12\n",
       "\\begin{tabular}{r|llllllllllll}\n",
       " treat & age & education & black & hispanic & married & nodegree & re74 & re75 & re78 & u74 & u75\\\\\n",
       " <int> & <int> & <int> & <int> & <int> & <int> & <int> & <dbl> & <dbl> & <dbl> & <lgl> & <lgl>\\\\\n",
       "\\hline\n",
       "\t 1 & 37 & 11 & 1 & 0 & 1 & 1 & 0 & 0 &  9930.0459 & TRUE & TRUE\\\\\n",
       "\t 1 & 22 &  9 & 0 & 1 & 0 & 1 & 0 & 0 &  3595.8940 & TRUE & TRUE\\\\\n",
       "\t 1 & 30 & 12 & 1 & 0 & 0 & 0 & 0 & 0 & 24909.4492 & TRUE & TRUE\\\\\n",
       "\t 1 & 27 & 11 & 1 & 0 & 0 & 1 & 0 & 0 &  7506.1460 & TRUE & TRUE\\\\\n",
       "\t 1 & 33 &  8 & 1 & 0 & 0 & 1 & 0 & 0 &   289.7899 & TRUE & TRUE\\\\\n",
       "\t 1 & 22 &  9 & 1 & 0 & 0 & 1 & 0 & 0 &  4056.4939 & TRUE & TRUE\\\\\n",
       "\\end{tabular}\n"
      ],
      "text/markdown": [
       "\n",
       "A data.frame: 6 × 12\n",
       "\n",
       "| treat &lt;int&gt; | age &lt;int&gt; | education &lt;int&gt; | black &lt;int&gt; | hispanic &lt;int&gt; | married &lt;int&gt; | nodegree &lt;int&gt; | re74 &lt;dbl&gt; | re75 &lt;dbl&gt; | re78 &lt;dbl&gt; | u74 &lt;lgl&gt; | u75 &lt;lgl&gt; |\n",
       "|---|---|---|---|---|---|---|---|---|---|---|---|\n",
       "| 1 | 37 | 11 | 1 | 0 | 1 | 1 | 0 | 0 |  9930.0459 | TRUE | TRUE |\n",
       "| 1 | 22 |  9 | 0 | 1 | 0 | 1 | 0 | 0 |  3595.8940 | TRUE | TRUE |\n",
       "| 1 | 30 | 12 | 1 | 0 | 0 | 0 | 0 | 0 | 24909.4492 | TRUE | TRUE |\n",
       "| 1 | 27 | 11 | 1 | 0 | 0 | 1 | 0 | 0 |  7506.1460 | TRUE | TRUE |\n",
       "| 1 | 33 |  8 | 1 | 0 | 0 | 1 | 0 | 0 |   289.7899 | TRUE | TRUE |\n",
       "| 1 | 22 |  9 | 1 | 0 | 0 | 1 | 0 | 0 |  4056.4939 | TRUE | TRUE |\n",
       "\n"
      ],
      "text/plain": [
       "  treat age education black hispanic married nodegree re74 re75 re78       u74 \n",
       "1 1     37  11        1     0        1       1        0    0     9930.0459 TRUE\n",
       "2 1     22   9        0     1        0       1        0    0     3595.8940 TRUE\n",
       "3 1     30  12        1     0        0       0        0    0    24909.4492 TRUE\n",
       "4 1     27  11        1     0        0       1        0    0     7506.1460 TRUE\n",
       "5 1     33   8        1     0        0       1        0    0      289.7899 TRUE\n",
       "6 1     22   9        1     0        0       1        0    0     4056.4939 TRUE\n",
       "  u75 \n",
       "1 TRUE\n",
       "2 TRUE\n",
       "3 TRUE\n",
       "4 TRUE\n",
       "5 TRUE\n",
       "6 TRUE"
      ]
     },
     "execution_count": 29,
     "metadata": {
     },
     "output_type": "execute_result"
    }
   ],
   "source": [
    "library(boot)\n",
    "\n",
    "nsw <- read.csv(\"nsw\") \n",
    "set.seed(12345)\n",
    "head(nsw)"
   ]
  },
  {
   "cell_type": "code",
   "execution_count": 30,
   "metadata": {
    "collapsed": false
   },
   "outputs": [
   ],
   "source": [
    "# Sample for test set\n",
    "test_set <- sample(1:length(nsw$age), 2000, replace = FALSE) \n",
    "\n",
    "# Test set data\n",
    "test_set_data <- nsw[test_set, ]\n",
    "\n",
    "# Training set data\n",
    "training_set_data <- nsw[-test_set, ]\n"
   ]
  },
  {
   "cell_type": "code",
   "execution_count": 31,
   "metadata": {
    "collapsed": false
   },
   "outputs": [
    {
     "data": {
      "text/html": [
       "2000"
      ],
      "text/latex": [
       "2000"
      ],
      "text/markdown": [
       "2000"
      ],
      "text/plain": [
       "[1] 2000"
      ]
     },
     "execution_count": 31,
     "metadata": {
     },
     "output_type": "execute_result"
    },
    {
     "data": {
      "text/html": [
       "14177"
      ],
      "text/latex": [
       "14177"
      ],
      "text/markdown": [
       "14177"
      ],
      "text/plain": [
       "[1] 14177"
      ]
     },
     "execution_count": 31,
     "metadata": {
     },
     "output_type": "execute_result"
    },
    {
     "data": {
      "text/html": [
       "16177"
      ],
      "text/latex": [
       "16177"
      ],
      "text/markdown": [
       "16177"
      ],
      "text/plain": [
       "[1] 16177"
      ]
     },
     "execution_count": 31,
     "metadata": {
     },
     "output_type": "execute_result"
    }
   ],
   "source": [
    "length(test_set_data$age)\n",
    "length(training_set_data$age)\n",
    "length(nsw$age)"
   ]
  },
  {
   "cell_type": "code",
   "execution_count": 32,
   "metadata": {
    "collapsed": false
   },
   "outputs": [
    {
     "data": {
      "text/plain": [
       "\n",
       "Call:\n",
       "glm(formula = treat ~ age + education + black + hispanic + nodegree + \n",
       "    married, data = training_set_data)\n",
       "\n",
       "Deviance Residuals: \n",
       "     Min        1Q    Median        3Q       Max  \n",
       "-0.14245  -0.01267   0.00025   0.00769   1.00896  \n",
       "\n",
       "Coefficients:\n",
       "              Estimate Std. Error t value Pr(>|t|)    \n",
       "(Intercept)  5.888e-03  6.892e-03   0.854 0.392944    \n",
       "age         -3.163e-04  8.691e-05  -3.640 0.000274 ***\n",
       "education    1.066e-03  4.417e-04   2.414 0.015777 *  \n",
       "black        1.103e-01  3.138e-03  35.138  < 2e-16 ***\n",
       "hispanic     5.348e-03  3.372e-03   1.586 0.112709    \n",
       "nodegree     1.962e-02  2.729e-03   7.190 6.80e-13 ***\n",
       "married     -1.720e-02  2.096e-03  -8.208 2.45e-16 ***\n",
       "---\n",
       "Signif. codes:  0 ‘***’ 0.001 ‘**’ 0.01 ‘*’ 0.05 ‘.’ 0.1 ‘ ’ 1\n",
       "\n",
       "(Dispersion parameter for gaussian family taken to be 0.01026685)\n",
       "\n",
       "    Null deviance: 162.10  on 14176  degrees of freedom\n",
       "Residual deviance: 145.48  on 14170  degrees of freedom\n",
       "AIC: -24673\n",
       "\n",
       "Number of Fisher Scoring iterations: 2\n"
      ]
     },
     "execution_count": 32,
     "metadata": {
     },
     "output_type": "execute_result"
    }
   ],
   "source": [
    "\n",
    "glm.fit_1 <- glm(treat ~ age + education + black + hispanic + nodegree + married, data = training_set_data)\n",
    "summary(glm.fit_1)\n",
    "cv.error_1 = cv.glm(training_set_data, glm.fit_1)\n",
    "names(cv.error_1)\n",
    "round(cv.error_1$delta, 8)\n",
    "\n",
    "\n",
    "test_MSE_1 <- mean((test_set_data$treat - predict.glm(glm.fit_1, test_set_data))^2)\n",
    "test_MSE_1\n",
    "\n",
    "\n",
    "glm.fit_2 <- glm(treat ~ age + education + black + married, data = training_set_data)\n",
    "summary(glm.fit_2)\n",
    "cv.error_2 = cv.glm(training_set_data, glm.fit_2)\n",
    "names(cv.error_2)\n",
    "round(cv.error_2$delta, 8)\n",
    "\n",
    "\n",
    "test_MSE_2 <- mean((test_set_data$treat - predict.glm(glm.fit_2, test_set_data))^2)\n",
    "test_MSE_2\n",
    "\n",
    "\n",
    "glm.fit_3 <- glm(treat ~ age + education, data = training_set_data)\n",
    "summary(glm.fit_3)\n",
    "cv.error_3 = cv.glm(training_set_data, glm.fit_3)\n",
    "names(cv.error_3)\n",
    "round(cv.error_3$delta, 8)\n",
    "\n",
    "\n",
    "test_MSE_3 <- mean((test_set_data$treat - predict.glm(glm.fit_3, test_set_data))^2)\n",
    "test_MSE_3\n",
    "\n",
    "\n",
    "glm.fit_4 <- glm(treat ~ age + education + hispanic, data = training_set_data)\n",
    "summary(glm.fit_4)\n",
    "cv.error_4 = cv.glm(training_set_data, glm.fit_4)\n",
    "names(cv.error_4)\n",
    "round(cv.error_4$delta, 8)\n",
    "\n",
    "\n",
    "test_MSE_4 <- mean((test_set_data$treat - predict.glm(glm.fit_4, test_set_data))^2)\n",
    "test_MSE_4\n",
    "\n",
    "\n",
    "glm.fit_5 <- glm(treat ~ age + education + hispanic + married, data = training_set_data)\n",
    "summary(glm.fit_5)\n",
    "cv.error_5 = cv.glm(training_set_data, glm.fit_5)\n",
    "names(cv.error_5)\n",
    "round(cv.error_5$delta, 8)\n",
    "\n",
    "\n",
    "test_MSE_5 <- mean((test_set_data$treat - predict.glm(glm.fit_5, test_set_data))^2)\n",
    "test_MSE_5\n"
   ]
  },
  {
   "cell_type": "code",
   "execution_count": 0,
   "metadata": {
    "collapsed": false
   },
   "outputs": [
   ],
   "source": [
   ]
  }
 ],
 "metadata": {
  "kernelspec": {
   "display_name": "R (R-Project)",
   "language": "r",
   "metadata": {
    "cocalc": {
     "description": "R statistical programming language",
     "priority": 10,
     "url": "https://www.r-project.org/"
    }
   },
   "name": "ir"
  },
  "language_info": {
   "codemirror_mode": "r",
   "file_extension": ".r",
   "mimetype": "text/x-r-source",
   "name": "R",
   "pygments_lexer": "r",
   "version": "3.6.1"
  }
 },
 "nbformat": 4,
 "nbformat_minor": 0
}